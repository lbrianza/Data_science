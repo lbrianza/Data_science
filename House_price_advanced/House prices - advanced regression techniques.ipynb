{
 "cells": [
  {
   "cell_type": "markdown",
   "metadata": {},
   "source": [
    "# HOUSE PRICES - ADVANCED REGRESSION TECHNIQUES\n",
    "### This is a dataset containing 79 explanatory variables describing (almost) every aspect of residential homes in Ames, Iowa. It's an expanded and more complex version of the often cited Boston Housing dataset.  \n",
    "\n",
    "### Here I will compare several regression techniques: \n",
    "* Simple linear regression using features with highest correlation with target variable\n",
    "* Linear regression with Ridge/Lasso regularization\n",
    "* Principal Component Analysis\n",
    "* XGBoost (gradient boosting decision trees)\n",
    "\n",
    "## Quick notes:\n",
    "* Reference to the data_description.txt file for the description of each variable\n",
    "* For simplicity, I will use only the 'train' dataset for the analysis, splitting it into train+test (in order not to repeat the whole feature engineer process on the test dataset)"
   ]
  },
  {
   "cell_type": "code",
   "execution_count": null,
   "metadata": {},
   "outputs": [],
   "source": [
    "import numpy as np\n",
    "import pandas as pd\n",
    "import seaborn as sns\n",
    "import matplotlib.pyplot as plt\n",
    "%matplotlib inline"
   ]
  },
  {
   "cell_type": "code",
   "execution_count": 99,
   "metadata": {},
   "outputs": [],
   "source": [
    "train = pd.read_csv('train.csv')"
   ]
  },
  {
   "cell_type": "markdown",
   "metadata": {},
   "source": [
    "# EXPLORATORY DATA ANALYSIS"
   ]
  },
  {
   "cell_type": "code",
   "execution_count": 100,
   "metadata": {},
   "outputs": [
    {
     "data": {
      "text/html": [
       "<div>\n",
       "<style scoped>\n",
       "    .dataframe tbody tr th:only-of-type {\n",
       "        vertical-align: middle;\n",
       "    }\n",
       "\n",
       "    .dataframe tbody tr th {\n",
       "        vertical-align: top;\n",
       "    }\n",
       "\n",
       "    .dataframe thead th {\n",
       "        text-align: right;\n",
       "    }\n",
       "</style>\n",
       "<table border=\"1\" class=\"dataframe\">\n",
       "  <thead>\n",
       "    <tr style=\"text-align: right;\">\n",
       "      <th></th>\n",
       "      <th>Id</th>\n",
       "      <th>MSSubClass</th>\n",
       "      <th>MSZoning</th>\n",
       "      <th>LotFrontage</th>\n",
       "      <th>LotArea</th>\n",
       "      <th>Street</th>\n",
       "      <th>Alley</th>\n",
       "      <th>LotShape</th>\n",
       "      <th>LandContour</th>\n",
       "      <th>Utilities</th>\n",
       "      <th>...</th>\n",
       "      <th>PoolArea</th>\n",
       "      <th>PoolQC</th>\n",
       "      <th>Fence</th>\n",
       "      <th>MiscFeature</th>\n",
       "      <th>MiscVal</th>\n",
       "      <th>MoSold</th>\n",
       "      <th>YrSold</th>\n",
       "      <th>SaleType</th>\n",
       "      <th>SaleCondition</th>\n",
       "      <th>SalePrice</th>\n",
       "    </tr>\n",
       "  </thead>\n",
       "  <tbody>\n",
       "    <tr>\n",
       "      <th>0</th>\n",
       "      <td>1</td>\n",
       "      <td>60</td>\n",
       "      <td>RL</td>\n",
       "      <td>65.0</td>\n",
       "      <td>8450</td>\n",
       "      <td>Pave</td>\n",
       "      <td>NaN</td>\n",
       "      <td>Reg</td>\n",
       "      <td>Lvl</td>\n",
       "      <td>AllPub</td>\n",
       "      <td>...</td>\n",
       "      <td>0</td>\n",
       "      <td>NaN</td>\n",
       "      <td>NaN</td>\n",
       "      <td>NaN</td>\n",
       "      <td>0</td>\n",
       "      <td>2</td>\n",
       "      <td>2008</td>\n",
       "      <td>WD</td>\n",
       "      <td>Normal</td>\n",
       "      <td>208500</td>\n",
       "    </tr>\n",
       "    <tr>\n",
       "      <th>1</th>\n",
       "      <td>2</td>\n",
       "      <td>20</td>\n",
       "      <td>RL</td>\n",
       "      <td>80.0</td>\n",
       "      <td>9600</td>\n",
       "      <td>Pave</td>\n",
       "      <td>NaN</td>\n",
       "      <td>Reg</td>\n",
       "      <td>Lvl</td>\n",
       "      <td>AllPub</td>\n",
       "      <td>...</td>\n",
       "      <td>0</td>\n",
       "      <td>NaN</td>\n",
       "      <td>NaN</td>\n",
       "      <td>NaN</td>\n",
       "      <td>0</td>\n",
       "      <td>5</td>\n",
       "      <td>2007</td>\n",
       "      <td>WD</td>\n",
       "      <td>Normal</td>\n",
       "      <td>181500</td>\n",
       "    </tr>\n",
       "    <tr>\n",
       "      <th>2</th>\n",
       "      <td>3</td>\n",
       "      <td>60</td>\n",
       "      <td>RL</td>\n",
       "      <td>68.0</td>\n",
       "      <td>11250</td>\n",
       "      <td>Pave</td>\n",
       "      <td>NaN</td>\n",
       "      <td>IR1</td>\n",
       "      <td>Lvl</td>\n",
       "      <td>AllPub</td>\n",
       "      <td>...</td>\n",
       "      <td>0</td>\n",
       "      <td>NaN</td>\n",
       "      <td>NaN</td>\n",
       "      <td>NaN</td>\n",
       "      <td>0</td>\n",
       "      <td>9</td>\n",
       "      <td>2008</td>\n",
       "      <td>WD</td>\n",
       "      <td>Normal</td>\n",
       "      <td>223500</td>\n",
       "    </tr>\n",
       "    <tr>\n",
       "      <th>3</th>\n",
       "      <td>4</td>\n",
       "      <td>70</td>\n",
       "      <td>RL</td>\n",
       "      <td>60.0</td>\n",
       "      <td>9550</td>\n",
       "      <td>Pave</td>\n",
       "      <td>NaN</td>\n",
       "      <td>IR1</td>\n",
       "      <td>Lvl</td>\n",
       "      <td>AllPub</td>\n",
       "      <td>...</td>\n",
       "      <td>0</td>\n",
       "      <td>NaN</td>\n",
       "      <td>NaN</td>\n",
       "      <td>NaN</td>\n",
       "      <td>0</td>\n",
       "      <td>2</td>\n",
       "      <td>2006</td>\n",
       "      <td>WD</td>\n",
       "      <td>Abnorml</td>\n",
       "      <td>140000</td>\n",
       "    </tr>\n",
       "    <tr>\n",
       "      <th>4</th>\n",
       "      <td>5</td>\n",
       "      <td>60</td>\n",
       "      <td>RL</td>\n",
       "      <td>84.0</td>\n",
       "      <td>14260</td>\n",
       "      <td>Pave</td>\n",
       "      <td>NaN</td>\n",
       "      <td>IR1</td>\n",
       "      <td>Lvl</td>\n",
       "      <td>AllPub</td>\n",
       "      <td>...</td>\n",
       "      <td>0</td>\n",
       "      <td>NaN</td>\n",
       "      <td>NaN</td>\n",
       "      <td>NaN</td>\n",
       "      <td>0</td>\n",
       "      <td>12</td>\n",
       "      <td>2008</td>\n",
       "      <td>WD</td>\n",
       "      <td>Normal</td>\n",
       "      <td>250000</td>\n",
       "    </tr>\n",
       "    <tr>\n",
       "      <th>...</th>\n",
       "      <td>...</td>\n",
       "      <td>...</td>\n",
       "      <td>...</td>\n",
       "      <td>...</td>\n",
       "      <td>...</td>\n",
       "      <td>...</td>\n",
       "      <td>...</td>\n",
       "      <td>...</td>\n",
       "      <td>...</td>\n",
       "      <td>...</td>\n",
       "      <td>...</td>\n",
       "      <td>...</td>\n",
       "      <td>...</td>\n",
       "      <td>...</td>\n",
       "      <td>...</td>\n",
       "      <td>...</td>\n",
       "      <td>...</td>\n",
       "      <td>...</td>\n",
       "      <td>...</td>\n",
       "      <td>...</td>\n",
       "      <td>...</td>\n",
       "    </tr>\n",
       "    <tr>\n",
       "      <th>1455</th>\n",
       "      <td>1456</td>\n",
       "      <td>60</td>\n",
       "      <td>RL</td>\n",
       "      <td>62.0</td>\n",
       "      <td>7917</td>\n",
       "      <td>Pave</td>\n",
       "      <td>NaN</td>\n",
       "      <td>Reg</td>\n",
       "      <td>Lvl</td>\n",
       "      <td>AllPub</td>\n",
       "      <td>...</td>\n",
       "      <td>0</td>\n",
       "      <td>NaN</td>\n",
       "      <td>NaN</td>\n",
       "      <td>NaN</td>\n",
       "      <td>0</td>\n",
       "      <td>8</td>\n",
       "      <td>2007</td>\n",
       "      <td>WD</td>\n",
       "      <td>Normal</td>\n",
       "      <td>175000</td>\n",
       "    </tr>\n",
       "    <tr>\n",
       "      <th>1456</th>\n",
       "      <td>1457</td>\n",
       "      <td>20</td>\n",
       "      <td>RL</td>\n",
       "      <td>85.0</td>\n",
       "      <td>13175</td>\n",
       "      <td>Pave</td>\n",
       "      <td>NaN</td>\n",
       "      <td>Reg</td>\n",
       "      <td>Lvl</td>\n",
       "      <td>AllPub</td>\n",
       "      <td>...</td>\n",
       "      <td>0</td>\n",
       "      <td>NaN</td>\n",
       "      <td>MnPrv</td>\n",
       "      <td>NaN</td>\n",
       "      <td>0</td>\n",
       "      <td>2</td>\n",
       "      <td>2010</td>\n",
       "      <td>WD</td>\n",
       "      <td>Normal</td>\n",
       "      <td>210000</td>\n",
       "    </tr>\n",
       "    <tr>\n",
       "      <th>1457</th>\n",
       "      <td>1458</td>\n",
       "      <td>70</td>\n",
       "      <td>RL</td>\n",
       "      <td>66.0</td>\n",
       "      <td>9042</td>\n",
       "      <td>Pave</td>\n",
       "      <td>NaN</td>\n",
       "      <td>Reg</td>\n",
       "      <td>Lvl</td>\n",
       "      <td>AllPub</td>\n",
       "      <td>...</td>\n",
       "      <td>0</td>\n",
       "      <td>NaN</td>\n",
       "      <td>GdPrv</td>\n",
       "      <td>Shed</td>\n",
       "      <td>2500</td>\n",
       "      <td>5</td>\n",
       "      <td>2010</td>\n",
       "      <td>WD</td>\n",
       "      <td>Normal</td>\n",
       "      <td>266500</td>\n",
       "    </tr>\n",
       "    <tr>\n",
       "      <th>1458</th>\n",
       "      <td>1459</td>\n",
       "      <td>20</td>\n",
       "      <td>RL</td>\n",
       "      <td>68.0</td>\n",
       "      <td>9717</td>\n",
       "      <td>Pave</td>\n",
       "      <td>NaN</td>\n",
       "      <td>Reg</td>\n",
       "      <td>Lvl</td>\n",
       "      <td>AllPub</td>\n",
       "      <td>...</td>\n",
       "      <td>0</td>\n",
       "      <td>NaN</td>\n",
       "      <td>NaN</td>\n",
       "      <td>NaN</td>\n",
       "      <td>0</td>\n",
       "      <td>4</td>\n",
       "      <td>2010</td>\n",
       "      <td>WD</td>\n",
       "      <td>Normal</td>\n",
       "      <td>142125</td>\n",
       "    </tr>\n",
       "    <tr>\n",
       "      <th>1459</th>\n",
       "      <td>1460</td>\n",
       "      <td>20</td>\n",
       "      <td>RL</td>\n",
       "      <td>75.0</td>\n",
       "      <td>9937</td>\n",
       "      <td>Pave</td>\n",
       "      <td>NaN</td>\n",
       "      <td>Reg</td>\n",
       "      <td>Lvl</td>\n",
       "      <td>AllPub</td>\n",
       "      <td>...</td>\n",
       "      <td>0</td>\n",
       "      <td>NaN</td>\n",
       "      <td>NaN</td>\n",
       "      <td>NaN</td>\n",
       "      <td>0</td>\n",
       "      <td>6</td>\n",
       "      <td>2008</td>\n",
       "      <td>WD</td>\n",
       "      <td>Normal</td>\n",
       "      <td>147500</td>\n",
       "    </tr>\n",
       "  </tbody>\n",
       "</table>\n",
       "<p>1460 rows × 81 columns</p>\n",
       "</div>"
      ],
      "text/plain": [
       "        Id  MSSubClass MSZoning  LotFrontage  LotArea Street Alley LotShape  \\\n",
       "0        1          60       RL         65.0     8450   Pave   NaN      Reg   \n",
       "1        2          20       RL         80.0     9600   Pave   NaN      Reg   \n",
       "2        3          60       RL         68.0    11250   Pave   NaN      IR1   \n",
       "3        4          70       RL         60.0     9550   Pave   NaN      IR1   \n",
       "4        5          60       RL         84.0    14260   Pave   NaN      IR1   \n",
       "...    ...         ...      ...          ...      ...    ...   ...      ...   \n",
       "1455  1456          60       RL         62.0     7917   Pave   NaN      Reg   \n",
       "1456  1457          20       RL         85.0    13175   Pave   NaN      Reg   \n",
       "1457  1458          70       RL         66.0     9042   Pave   NaN      Reg   \n",
       "1458  1459          20       RL         68.0     9717   Pave   NaN      Reg   \n",
       "1459  1460          20       RL         75.0     9937   Pave   NaN      Reg   \n",
       "\n",
       "     LandContour Utilities  ... PoolArea PoolQC  Fence MiscFeature MiscVal  \\\n",
       "0            Lvl    AllPub  ...        0    NaN    NaN         NaN       0   \n",
       "1            Lvl    AllPub  ...        0    NaN    NaN         NaN       0   \n",
       "2            Lvl    AllPub  ...        0    NaN    NaN         NaN       0   \n",
       "3            Lvl    AllPub  ...        0    NaN    NaN         NaN       0   \n",
       "4            Lvl    AllPub  ...        0    NaN    NaN         NaN       0   \n",
       "...          ...       ...  ...      ...    ...    ...         ...     ...   \n",
       "1455         Lvl    AllPub  ...        0    NaN    NaN         NaN       0   \n",
       "1456         Lvl    AllPub  ...        0    NaN  MnPrv         NaN       0   \n",
       "1457         Lvl    AllPub  ...        0    NaN  GdPrv        Shed    2500   \n",
       "1458         Lvl    AllPub  ...        0    NaN    NaN         NaN       0   \n",
       "1459         Lvl    AllPub  ...        0    NaN    NaN         NaN       0   \n",
       "\n",
       "     MoSold YrSold  SaleType  SaleCondition  SalePrice  \n",
       "0         2   2008        WD         Normal     208500  \n",
       "1         5   2007        WD         Normal     181500  \n",
       "2         9   2008        WD         Normal     223500  \n",
       "3         2   2006        WD        Abnorml     140000  \n",
       "4        12   2008        WD         Normal     250000  \n",
       "...     ...    ...       ...            ...        ...  \n",
       "1455      8   2007        WD         Normal     175000  \n",
       "1456      2   2010        WD         Normal     210000  \n",
       "1457      5   2010        WD         Normal     266500  \n",
       "1458      4   2010        WD         Normal     142125  \n",
       "1459      6   2008        WD         Normal     147500  \n",
       "\n",
       "[1460 rows x 81 columns]"
      ]
     },
     "execution_count": 100,
     "metadata": {},
     "output_type": "execute_result"
    }
   ],
   "source": [
    "train"
   ]
  },
  {
   "cell_type": "code",
   "execution_count": 101,
   "metadata": {},
   "outputs": [
    {
     "data": {
      "text/plain": [
       "Index(['Id', 'MSSubClass', 'MSZoning', 'LotFrontage', 'LotArea', 'Street',\n",
       "       'Alley', 'LotShape', 'LandContour', 'Utilities', 'LotConfig',\n",
       "       'LandSlope', 'Neighborhood', 'Condition1', 'Condition2', 'BldgType',\n",
       "       'HouseStyle', 'OverallQual', 'OverallCond', 'YearBuilt', 'YearRemodAdd',\n",
       "       'RoofStyle', 'RoofMatl', 'Exterior1st', 'Exterior2nd', 'MasVnrType',\n",
       "       'MasVnrArea', 'ExterQual', 'ExterCond', 'Foundation', 'BsmtQual',\n",
       "       'BsmtCond', 'BsmtExposure', 'BsmtFinType1', 'BsmtFinSF1',\n",
       "       'BsmtFinType2', 'BsmtFinSF2', 'BsmtUnfSF', 'TotalBsmtSF', 'Heating',\n",
       "       'HeatingQC', 'CentralAir', 'Electrical', '1stFlrSF', '2ndFlrSF',\n",
       "       'LowQualFinSF', 'GrLivArea', 'BsmtFullBath', 'BsmtHalfBath', 'FullBath',\n",
       "       'HalfBath', 'BedroomAbvGr', 'KitchenAbvGr', 'KitchenQual',\n",
       "       'TotRmsAbvGrd', 'Functional', 'Fireplaces', 'FireplaceQu', 'GarageType',\n",
       "       'GarageYrBlt', 'GarageFinish', 'GarageCars', 'GarageArea', 'GarageQual',\n",
       "       'GarageCond', 'PavedDrive', 'WoodDeckSF', 'OpenPorchSF',\n",
       "       'EnclosedPorch', '3SsnPorch', 'ScreenPorch', 'PoolArea', 'PoolQC',\n",
       "       'Fence', 'MiscFeature', 'MiscVal', 'MoSold', 'YrSold', 'SaleType',\n",
       "       'SaleCondition', 'SalePrice'],\n",
       "      dtype='object')"
      ]
     },
     "execution_count": 101,
     "metadata": {},
     "output_type": "execute_result"
    }
   ],
   "source": [
    "train.columns"
   ]
  },
  {
   "cell_type": "code",
   "execution_count": 102,
   "metadata": {},
   "outputs": [
    {
     "data": {
      "text/plain": [
       "Id               1460\n",
       "MSSubClass       1460\n",
       "MSZoning         1460\n",
       "LotFrontage      1201\n",
       "LotArea          1460\n",
       "                 ... \n",
       "MoSold           1460\n",
       "YrSold           1460\n",
       "SaleType         1460\n",
       "SaleCondition    1460\n",
       "SalePrice        1460\n",
       "Length: 81, dtype: int64"
      ]
     },
     "execution_count": 102,
     "metadata": {},
     "output_type": "execute_result"
    }
   ],
   "source": [
    "train.count()"
   ]
  },
  {
   "cell_type": "code",
   "execution_count": 103,
   "metadata": {},
   "outputs": [
    {
     "data": {
      "text/html": [
       "<div>\n",
       "<style scoped>\n",
       "    .dataframe tbody tr th:only-of-type {\n",
       "        vertical-align: middle;\n",
       "    }\n",
       "\n",
       "    .dataframe tbody tr th {\n",
       "        vertical-align: top;\n",
       "    }\n",
       "\n",
       "    .dataframe thead th {\n",
       "        text-align: right;\n",
       "    }\n",
       "</style>\n",
       "<table border=\"1\" class=\"dataframe\">\n",
       "  <thead>\n",
       "    <tr style=\"text-align: right;\">\n",
       "      <th></th>\n",
       "      <th>Id</th>\n",
       "      <th>MSSubClass</th>\n",
       "      <th>LotFrontage</th>\n",
       "      <th>LotArea</th>\n",
       "      <th>OverallQual</th>\n",
       "      <th>OverallCond</th>\n",
       "      <th>YearBuilt</th>\n",
       "      <th>YearRemodAdd</th>\n",
       "      <th>MasVnrArea</th>\n",
       "      <th>BsmtFinSF1</th>\n",
       "      <th>...</th>\n",
       "      <th>WoodDeckSF</th>\n",
       "      <th>OpenPorchSF</th>\n",
       "      <th>EnclosedPorch</th>\n",
       "      <th>3SsnPorch</th>\n",
       "      <th>ScreenPorch</th>\n",
       "      <th>PoolArea</th>\n",
       "      <th>MiscVal</th>\n",
       "      <th>MoSold</th>\n",
       "      <th>YrSold</th>\n",
       "      <th>SalePrice</th>\n",
       "    </tr>\n",
       "  </thead>\n",
       "  <tbody>\n",
       "    <tr>\n",
       "      <th>count</th>\n",
       "      <td>1460.000000</td>\n",
       "      <td>1460.000000</td>\n",
       "      <td>1201.000000</td>\n",
       "      <td>1460.000000</td>\n",
       "      <td>1460.000000</td>\n",
       "      <td>1460.000000</td>\n",
       "      <td>1460.000000</td>\n",
       "      <td>1460.000000</td>\n",
       "      <td>1452.000000</td>\n",
       "      <td>1460.000000</td>\n",
       "      <td>...</td>\n",
       "      <td>1460.000000</td>\n",
       "      <td>1460.000000</td>\n",
       "      <td>1460.000000</td>\n",
       "      <td>1460.000000</td>\n",
       "      <td>1460.000000</td>\n",
       "      <td>1460.000000</td>\n",
       "      <td>1460.000000</td>\n",
       "      <td>1460.000000</td>\n",
       "      <td>1460.000000</td>\n",
       "      <td>1460.000000</td>\n",
       "    </tr>\n",
       "    <tr>\n",
       "      <th>mean</th>\n",
       "      <td>730.500000</td>\n",
       "      <td>56.897260</td>\n",
       "      <td>70.049958</td>\n",
       "      <td>10516.828082</td>\n",
       "      <td>6.099315</td>\n",
       "      <td>5.575342</td>\n",
       "      <td>1971.267808</td>\n",
       "      <td>1984.865753</td>\n",
       "      <td>103.685262</td>\n",
       "      <td>443.639726</td>\n",
       "      <td>...</td>\n",
       "      <td>94.244521</td>\n",
       "      <td>46.660274</td>\n",
       "      <td>21.954110</td>\n",
       "      <td>3.409589</td>\n",
       "      <td>15.060959</td>\n",
       "      <td>2.758904</td>\n",
       "      <td>43.489041</td>\n",
       "      <td>6.321918</td>\n",
       "      <td>2007.815753</td>\n",
       "      <td>180921.195890</td>\n",
       "    </tr>\n",
       "    <tr>\n",
       "      <th>std</th>\n",
       "      <td>421.610009</td>\n",
       "      <td>42.300571</td>\n",
       "      <td>24.284752</td>\n",
       "      <td>9981.264932</td>\n",
       "      <td>1.382997</td>\n",
       "      <td>1.112799</td>\n",
       "      <td>30.202904</td>\n",
       "      <td>20.645407</td>\n",
       "      <td>181.066207</td>\n",
       "      <td>456.098091</td>\n",
       "      <td>...</td>\n",
       "      <td>125.338794</td>\n",
       "      <td>66.256028</td>\n",
       "      <td>61.119149</td>\n",
       "      <td>29.317331</td>\n",
       "      <td>55.757415</td>\n",
       "      <td>40.177307</td>\n",
       "      <td>496.123024</td>\n",
       "      <td>2.703626</td>\n",
       "      <td>1.328095</td>\n",
       "      <td>79442.502883</td>\n",
       "    </tr>\n",
       "    <tr>\n",
       "      <th>min</th>\n",
       "      <td>1.000000</td>\n",
       "      <td>20.000000</td>\n",
       "      <td>21.000000</td>\n",
       "      <td>1300.000000</td>\n",
       "      <td>1.000000</td>\n",
       "      <td>1.000000</td>\n",
       "      <td>1872.000000</td>\n",
       "      <td>1950.000000</td>\n",
       "      <td>0.000000</td>\n",
       "      <td>0.000000</td>\n",
       "      <td>...</td>\n",
       "      <td>0.000000</td>\n",
       "      <td>0.000000</td>\n",
       "      <td>0.000000</td>\n",
       "      <td>0.000000</td>\n",
       "      <td>0.000000</td>\n",
       "      <td>0.000000</td>\n",
       "      <td>0.000000</td>\n",
       "      <td>1.000000</td>\n",
       "      <td>2006.000000</td>\n",
       "      <td>34900.000000</td>\n",
       "    </tr>\n",
       "    <tr>\n",
       "      <th>25%</th>\n",
       "      <td>365.750000</td>\n",
       "      <td>20.000000</td>\n",
       "      <td>59.000000</td>\n",
       "      <td>7553.500000</td>\n",
       "      <td>5.000000</td>\n",
       "      <td>5.000000</td>\n",
       "      <td>1954.000000</td>\n",
       "      <td>1967.000000</td>\n",
       "      <td>0.000000</td>\n",
       "      <td>0.000000</td>\n",
       "      <td>...</td>\n",
       "      <td>0.000000</td>\n",
       "      <td>0.000000</td>\n",
       "      <td>0.000000</td>\n",
       "      <td>0.000000</td>\n",
       "      <td>0.000000</td>\n",
       "      <td>0.000000</td>\n",
       "      <td>0.000000</td>\n",
       "      <td>5.000000</td>\n",
       "      <td>2007.000000</td>\n",
       "      <td>129975.000000</td>\n",
       "    </tr>\n",
       "    <tr>\n",
       "      <th>50%</th>\n",
       "      <td>730.500000</td>\n",
       "      <td>50.000000</td>\n",
       "      <td>69.000000</td>\n",
       "      <td>9478.500000</td>\n",
       "      <td>6.000000</td>\n",
       "      <td>5.000000</td>\n",
       "      <td>1973.000000</td>\n",
       "      <td>1994.000000</td>\n",
       "      <td>0.000000</td>\n",
       "      <td>383.500000</td>\n",
       "      <td>...</td>\n",
       "      <td>0.000000</td>\n",
       "      <td>25.000000</td>\n",
       "      <td>0.000000</td>\n",
       "      <td>0.000000</td>\n",
       "      <td>0.000000</td>\n",
       "      <td>0.000000</td>\n",
       "      <td>0.000000</td>\n",
       "      <td>6.000000</td>\n",
       "      <td>2008.000000</td>\n",
       "      <td>163000.000000</td>\n",
       "    </tr>\n",
       "    <tr>\n",
       "      <th>75%</th>\n",
       "      <td>1095.250000</td>\n",
       "      <td>70.000000</td>\n",
       "      <td>80.000000</td>\n",
       "      <td>11601.500000</td>\n",
       "      <td>7.000000</td>\n",
       "      <td>6.000000</td>\n",
       "      <td>2000.000000</td>\n",
       "      <td>2004.000000</td>\n",
       "      <td>166.000000</td>\n",
       "      <td>712.250000</td>\n",
       "      <td>...</td>\n",
       "      <td>168.000000</td>\n",
       "      <td>68.000000</td>\n",
       "      <td>0.000000</td>\n",
       "      <td>0.000000</td>\n",
       "      <td>0.000000</td>\n",
       "      <td>0.000000</td>\n",
       "      <td>0.000000</td>\n",
       "      <td>8.000000</td>\n",
       "      <td>2009.000000</td>\n",
       "      <td>214000.000000</td>\n",
       "    </tr>\n",
       "    <tr>\n",
       "      <th>max</th>\n",
       "      <td>1460.000000</td>\n",
       "      <td>190.000000</td>\n",
       "      <td>313.000000</td>\n",
       "      <td>215245.000000</td>\n",
       "      <td>10.000000</td>\n",
       "      <td>9.000000</td>\n",
       "      <td>2010.000000</td>\n",
       "      <td>2010.000000</td>\n",
       "      <td>1600.000000</td>\n",
       "      <td>5644.000000</td>\n",
       "      <td>...</td>\n",
       "      <td>857.000000</td>\n",
       "      <td>547.000000</td>\n",
       "      <td>552.000000</td>\n",
       "      <td>508.000000</td>\n",
       "      <td>480.000000</td>\n",
       "      <td>738.000000</td>\n",
       "      <td>15500.000000</td>\n",
       "      <td>12.000000</td>\n",
       "      <td>2010.000000</td>\n",
       "      <td>755000.000000</td>\n",
       "    </tr>\n",
       "  </tbody>\n",
       "</table>\n",
       "<p>8 rows × 38 columns</p>\n",
       "</div>"
      ],
      "text/plain": [
       "                Id   MSSubClass  LotFrontage        LotArea  OverallQual  \\\n",
       "count  1460.000000  1460.000000  1201.000000    1460.000000  1460.000000   \n",
       "mean    730.500000    56.897260    70.049958   10516.828082     6.099315   \n",
       "std     421.610009    42.300571    24.284752    9981.264932     1.382997   \n",
       "min       1.000000    20.000000    21.000000    1300.000000     1.000000   \n",
       "25%     365.750000    20.000000    59.000000    7553.500000     5.000000   \n",
       "50%     730.500000    50.000000    69.000000    9478.500000     6.000000   \n",
       "75%    1095.250000    70.000000    80.000000   11601.500000     7.000000   \n",
       "max    1460.000000   190.000000   313.000000  215245.000000    10.000000   \n",
       "\n",
       "       OverallCond    YearBuilt  YearRemodAdd   MasVnrArea   BsmtFinSF1  ...  \\\n",
       "count  1460.000000  1460.000000   1460.000000  1452.000000  1460.000000  ...   \n",
       "mean      5.575342  1971.267808   1984.865753   103.685262   443.639726  ...   \n",
       "std       1.112799    30.202904     20.645407   181.066207   456.098091  ...   \n",
       "min       1.000000  1872.000000   1950.000000     0.000000     0.000000  ...   \n",
       "25%       5.000000  1954.000000   1967.000000     0.000000     0.000000  ...   \n",
       "50%       5.000000  1973.000000   1994.000000     0.000000   383.500000  ...   \n",
       "75%       6.000000  2000.000000   2004.000000   166.000000   712.250000  ...   \n",
       "max       9.000000  2010.000000   2010.000000  1600.000000  5644.000000  ...   \n",
       "\n",
       "        WoodDeckSF  OpenPorchSF  EnclosedPorch    3SsnPorch  ScreenPorch  \\\n",
       "count  1460.000000  1460.000000    1460.000000  1460.000000  1460.000000   \n",
       "mean     94.244521    46.660274      21.954110     3.409589    15.060959   \n",
       "std     125.338794    66.256028      61.119149    29.317331    55.757415   \n",
       "min       0.000000     0.000000       0.000000     0.000000     0.000000   \n",
       "25%       0.000000     0.000000       0.000000     0.000000     0.000000   \n",
       "50%       0.000000    25.000000       0.000000     0.000000     0.000000   \n",
       "75%     168.000000    68.000000       0.000000     0.000000     0.000000   \n",
       "max     857.000000   547.000000     552.000000   508.000000   480.000000   \n",
       "\n",
       "          PoolArea       MiscVal       MoSold       YrSold      SalePrice  \n",
       "count  1460.000000   1460.000000  1460.000000  1460.000000    1460.000000  \n",
       "mean      2.758904     43.489041     6.321918  2007.815753  180921.195890  \n",
       "std      40.177307    496.123024     2.703626     1.328095   79442.502883  \n",
       "min       0.000000      0.000000     1.000000  2006.000000   34900.000000  \n",
       "25%       0.000000      0.000000     5.000000  2007.000000  129975.000000  \n",
       "50%       0.000000      0.000000     6.000000  2008.000000  163000.000000  \n",
       "75%       0.000000      0.000000     8.000000  2009.000000  214000.000000  \n",
       "max     738.000000  15500.000000    12.000000  2010.000000  755000.000000  \n",
       "\n",
       "[8 rows x 38 columns]"
      ]
     },
     "execution_count": 103,
     "metadata": {},
     "output_type": "execute_result"
    }
   ],
   "source": [
    "train.describe()"
   ]
  },
  {
   "cell_type": "markdown",
   "metadata": {},
   "source": [
    "### We have 81 features and 1460 samples.\n",
    "### We need to go through the different columns and manipulate them. Let's start."
   ]
  },
  {
   "cell_type": "code",
   "execution_count": 104,
   "metadata": {},
   "outputs": [],
   "source": [
    "train.drop('Id',axis=1,inplace=True) #We can drop ID since we already have the index column"
   ]
  },
  {
   "cell_type": "markdown",
   "metadata": {},
   "source": [
    "### We start by checking/filling missing values."
   ]
  },
  {
   "cell_type": "code",
   "execution_count": 105,
   "metadata": {},
   "outputs": [
    {
     "data": {
      "text/plain": [
       "<matplotlib.axes._subplots.AxesSubplot at 0x2b20a4a84a8>"
      ]
     },
     "execution_count": 105,
     "metadata": {},
     "output_type": "execute_result"
    },
    {
     "data": {
      "image/png": "[encoded data removed]",
      "text/plain": [
       "<Figure size 1080x1080 with 2 Axes>"
      ]
     },
     "metadata": {
      "needs_background": "light"
     },
     "output_type": "display_data"
    }
   ],
   "source": [
    "plt.figure(figsize=(15,15))\n",
    "sns.heatmap(train.isnull(),cmap='viridis')"
   ]
  },
  {
   "cell_type": "code",
   "execution_count": 106,
   "metadata": {},
   "outputs": [
    {
     "data": {
      "text/plain": [
       "array([nan, 'Grvl', 'Pave'], dtype=object)"
      ]
     },
     "execution_count": 106,
     "metadata": {},
     "output_type": "execute_result"
    }
   ],
   "source": [
    "train['Alley'].unique()"
   ]
  },
  {
   "cell_type": "code",
   "execution_count": 107,
   "metadata": {},
   "outputs": [],
   "source": [
    "train['Alley'].fillna('No_all',inplace=True) #Nan simply means no alley\n",
    "train['Fence'].fillna('No_fen',inplace=True) #Nan simply means no fence\n",
    "train['PoolQC'].fillna('No_pool',inplace=True) #Nan simply means no Pool\n",
    "train['MiscFeature'].fillna('No_misc',inplace=True) #Nan simply means no misc. features\n",
    "train['FireplaceQu'].fillna('No_fire',inplace=True) #Nan simply means no fireplace"
   ]
  },
  {
   "cell_type": "code",
   "execution_count": 108,
   "metadata": {},
   "outputs": [
    {
     "data": {
      "text/plain": [
       "array([ 65.,  80.,  68.,  60.,  84.,  85.,  75.,  nan,  51.,  50.,  70.,\n",
       "        91.,  72.,  66., 101.,  57.,  44., 110.,  98.,  47., 108., 112.,\n",
       "        74., 115.,  61.,  48.,  33.,  52., 100.,  24.,  89.,  63.,  76.,\n",
       "        81.,  95.,  69.,  21.,  32.,  78., 121., 122.,  40., 105.,  73.,\n",
       "        77.,  64.,  94.,  34.,  90.,  55.,  88.,  82.,  71., 120., 107.,\n",
       "        92., 134.,  62.,  86., 141.,  97.,  54.,  41.,  79., 174.,  99.,\n",
       "        67.,  83.,  43., 103.,  93.,  30., 129., 140.,  35.,  37., 118.,\n",
       "        87., 116., 150., 111.,  49.,  96.,  59.,  36.,  56., 102.,  58.,\n",
       "        38., 109., 130.,  53., 137.,  45., 106., 104.,  42.,  39., 144.,\n",
       "       114., 128., 149., 313., 168., 182., 138., 160., 152., 124., 153.,\n",
       "        46.])"
      ]
     },
     "execution_count": 108,
     "metadata": {},
     "output_type": "execute_result"
    }
   ],
   "source": [
    "train['LotFrontage'].unique()"
   ]
  },
  {
   "cell_type": "code",
   "execution_count": 109,
   "metadata": {},
   "outputs": [],
   "source": [
    "train['LotFrontage'].fillna(0.,inplace=True)"
   ]
  },
  {
   "cell_type": "code",
   "execution_count": 110,
   "metadata": {},
   "outputs": [],
   "source": [
    "train['GarageType'].fillna('No_gt',inplace=True)\n",
    "train['GarageFinish'].fillna('No_gf',inplace=True)\n",
    "train['GarageCond'].fillna('No_gc',inplace=True)\n",
    "train['GarageQual'].fillna('No_gq',inplace=True)"
   ]
  },
  {
   "cell_type": "code",
   "execution_count": 111,
   "metadata": {},
   "outputs": [],
   "source": [
    "train['BsmtQual'].fillna('No_bq',inplace=True)\n",
    "train['BsmtCond'].fillna('No_bc',inplace=True)\n",
    "train['BsmtExposure'].fillna('No_be',inplace=True)\n",
    "train['BsmtFinType1'].fillna('No_bf1',inplace=True)\n",
    "train['BsmtFinType2'].fillna('No_bf2',inplace=True)"
   ]
  },
  {
   "cell_type": "code",
   "execution_count": 112,
   "metadata": {},
   "outputs": [],
   "source": [
    "train['GarageYrBlt'].fillna(0,inplace=True) #Nan is when garage is not present, so we fill with zero (make sense: older year means less value, so we can replace 'no garage' with the lowest possible year)"
   ]
  },
  {
   "cell_type": "code",
   "execution_count": 113,
   "metadata": {},
   "outputs": [
    {
     "data": {
      "text/plain": [
       "Index(['MasVnrType', 'MasVnrArea', 'Electrical'], dtype='object')"
      ]
     },
     "execution_count": 113,
     "metadata": {},
     "output_type": "execute_result"
    }
   ],
   "source": [
    "train.columns[train.isna().any()]"
   ]
  },
  {
   "cell_type": "code",
   "execution_count": 114,
   "metadata": {},
   "outputs": [],
   "source": [
    "train['MasVnrType'].fillna('No_mas',inplace=True)\n",
    "train['MasVnrArea'].fillna(0.,inplace=True)"
   ]
  },
  {
   "cell_type": "code",
   "execution_count": 115,
   "metadata": {},
   "outputs": [
    {
     "data": {
      "text/plain": [
       "1379    NaN\n",
       "Name: Electrical, dtype: object"
      ]
     },
     "execution_count": 115,
     "metadata": {},
     "output_type": "execute_result"
    }
   ],
   "source": [
    "train[train['Electrical'].isna()]['Electrical']"
   ]
  },
  {
   "cell_type": "code",
   "execution_count": 116,
   "metadata": {},
   "outputs": [
    {
     "data": {
      "text/plain": [
       "array(['SBrkr', 'FuseF', 'FuseA', 'FuseP', 'Mix', nan], dtype=object)"
      ]
     },
     "execution_count": 116,
     "metadata": {},
     "output_type": "execute_result"
    }
   ],
   "source": [
    "train['Electrical'].unique()"
   ]
  },
  {
   "cell_type": "code",
   "execution_count": 117,
   "metadata": {},
   "outputs": [],
   "source": [
    "train['Electrical'].fillna('No_el',inplace=True)"
   ]
  },
  {
   "cell_type": "code",
   "execution_count": 118,
   "metadata": {},
   "outputs": [
    {
     "data": {
      "text/plain": [
       "Index([], dtype='object')"
      ]
     },
     "execution_count": 118,
     "metadata": {},
     "output_type": "execute_result"
    }
   ],
   "source": [
    "train.columns[train.isna().any()]"
   ]
  },
  {
   "cell_type": "code",
   "execution_count": 119,
   "metadata": {
    "scrolled": true
   },
   "outputs": [
    {
     "data": {
      "text/plain": [
       "<matplotlib.axes._subplots.AxesSubplot at 0x2b20ba297b8>"
      ]
     },
     "execution_count": 119,
     "metadata": {},
     "output_type": "execute_result"
    },
    {
     "data": {
      "image/png": "[encoded data removed]",
      "text/plain": [
       "<Figure size 1080x1080 with 2 Axes>"
      ]
     },
     "metadata": {
      "needs_background": "light"
     },
     "output_type": "display_data"
    }
   ],
   "source": [
    "plt.figure(figsize=(15,15))\n",
    "sns.heatmap(train.isnull(),cmap='viridis')"
   ]
  },
  {
   "cell_type": "markdown",
   "metadata": {},
   "source": [
    "### NO MORE MISSING VALUES! GOOD JOB!"
   ]
  },
  {
   "cell_type": "markdown",
   "metadata": {},
   "source": [
    "### Now we will analyze numerical features, and check for outliers."
   ]
  },
  {
   "cell_type": "code",
   "execution_count": 120,
   "metadata": {},
   "outputs": [
    {
     "data": {
      "text/plain": [
       "['MSSubClass',\n",
       " 'LotFrontage',\n",
       " 'LotArea',\n",
       " 'OverallQual',\n",
       " 'OverallCond',\n",
       " 'YearBuilt',\n",
       " 'YearRemodAdd',\n",
       " 'MasVnrArea',\n",
       " 'BsmtFinSF1',\n",
       " 'BsmtFinSF2',\n",
       " 'BsmtUnfSF',\n",
       " 'TotalBsmtSF',\n",
       " '1stFlrSF',\n",
       " '2ndFlrSF',\n",
       " 'LowQualFinSF',\n",
       " 'GrLivArea',\n",
       " 'BsmtFullBath',\n",
       " 'BsmtHalfBath',\n",
       " 'FullBath',\n",
       " 'HalfBath',\n",
       " 'BedroomAbvGr',\n",
       " 'KitchenAbvGr',\n",
       " 'TotRmsAbvGrd',\n",
       " 'Fireplaces',\n",
       " 'GarageYrBlt',\n",
       " 'GarageCars',\n",
       " 'GarageArea',\n",
       " 'WoodDeckSF',\n",
       " 'OpenPorchSF',\n",
       " 'EnclosedPorch',\n",
       " '3SsnPorch',\n",
       " 'ScreenPorch',\n",
       " 'PoolArea',\n",
       " 'MiscVal',\n",
       " 'MoSold',\n",
       " 'YrSold',\n",
       " 'SalePrice']"
      ]
     },
     "execution_count": 120,
     "metadata": {},
     "output_type": "execute_result"
    }
   ],
   "source": [
    "numerics = ['int16', 'int32', 'int64', 'float16', 'float32', 'float64']\n",
    "numerical_features = list(train.select_dtypes(include=numerics).columns)\n",
    "numerical_features"
   ]
  },
  {
   "cell_type": "code",
   "execution_count": 121,
   "metadata": {},
   "outputs": [
    {
     "data": {
      "text/plain": [
       "<matplotlib.axes._subplots.AxesSubplot at 0x2b20c2b3cf8>"
      ]
     },
     "execution_count": 121,
     "metadata": {},
     "output_type": "execute_result"
    },
    {
     "data": {
      "image/png": "[encoded data removed]",
      "text/plain": [
       "<Figure size 432x288 with 1 Axes>"
      ]
     },
     "metadata": {
      "needs_background": "light"
     },
     "output_type": "display_data"
    }
   ],
   "source": [
    "sns.boxplot(x='SalePrice',data=train) #TARGET VARIABLE"
   ]
  },
  {
   "cell_type": "code",
   "execution_count": 122,
   "metadata": {},
   "outputs": [
    {
     "data": {
      "text/plain": [
       "OverallQual      0.790982\n",
       "GrLivArea        0.708624\n",
       "GarageCars       0.640409\n",
       "GarageArea       0.623431\n",
       "TotalBsmtSF      0.613581\n",
       "1stFlrSF         0.605852\n",
       "FullBath         0.560664\n",
       "TotRmsAbvGrd     0.533723\n",
       "YearBuilt        0.522897\n",
       "YearRemodAdd     0.507101\n",
       "MasVnrArea       0.472614\n",
       "Fireplaces       0.466929\n",
       "BsmtFinSF1       0.386420\n",
       "WoodDeckSF       0.324413\n",
       "2ndFlrSF         0.319334\n",
       "OpenPorchSF      0.315856\n",
       "HalfBath         0.284108\n",
       "LotArea          0.263843\n",
       "GarageYrBlt      0.261366\n",
       "BsmtFullBath     0.227122\n",
       "BsmtUnfSF        0.214479\n",
       "LotFrontage      0.209624\n",
       "BedroomAbvGr     0.168213\n",
       "ScreenPorch      0.111447\n",
       "PoolArea         0.092404\n",
       "MoSold           0.046432\n",
       "3SsnPorch        0.044584\n",
       "BsmtFinSF2      -0.011378\n",
       "BsmtHalfBath    -0.016844\n",
       "MiscVal         -0.021190\n",
       "LowQualFinSF    -0.025606\n",
       "YrSold          -0.028923\n",
       "OverallCond     -0.077856\n",
       "MSSubClass      -0.084284\n",
       "EnclosedPorch   -0.128578\n",
       "KitchenAbvGr    -0.135907\n",
       "Name: SalePrice, dtype: float64"
      ]
     },
     "execution_count": 122,
     "metadata": {},
     "output_type": "execute_result"
    }
   ],
   "source": [
    "train[numerical_features].corr()['SalePrice'].drop('SalePrice').sort_values(ascending=False)"
   ]
  },
  {
   "cell_type": "markdown",
   "metadata": {},
   "source": [
    "### As we could expect, overall quality and ground living area are the variables correlating most with sale price."
   ]
  },
  {
   "cell_type": "code",
   "execution_count": 123,
   "metadata": {},
   "outputs": [
    {
     "data": {
      "text/plain": [
       "<matplotlib.axes._subplots.AxesSubplot at 0x2b20d2e7978>"
      ]
     },
     "execution_count": 123,
     "metadata": {},
     "output_type": "execute_result"
    },
    {
     "data": {
      "image/png": "[encoded data removed]",
      "text/plain": [
       "<Figure size 432x288 with 1 Axes>"
      ]
     },
     "metadata": {
      "needs_background": "light"
     },
     "output_type": "display_data"
    }
   ],
   "source": [
    "sns.scatterplot(x='OverallQual',y='SalePrice',data=train)"
   ]
  },
  {
   "cell_type": "code",
   "execution_count": 124,
   "metadata": {},
   "outputs": [
    {
     "data": {
      "text/plain": [
       "<matplotlib.axes._subplots.AxesSubplot at 0x2b20d3330b8>"
      ]
     },
     "execution_count": 124,
     "metadata": {},
     "output_type": "execute_result"
    },
    {
     "data": {
      "image/png": "[encoded data removed]",
      "text/plain": [
       "<Figure size 432x288 with 1 Axes>"
      ]
     },
     "metadata": {
      "needs_background": "light"
     },
     "output_type": "display_data"
    }
   ],
   "source": [
    "sns.scatterplot(x='GrLivArea',y='SalePrice',data=train)"
   ]
  },
  {
   "cell_type": "code",
   "execution_count": 125,
   "metadata": {},
   "outputs": [
    {
     "data": {
      "text/plain": [
       "<matplotlib.axes._subplots.AxesSubplot at 0x2b20d383dd8>"
      ]
     },
     "execution_count": 125,
     "metadata": {},
     "output_type": "execute_result"
    },
    {
     "data": {
      "image/png": "[encoded data removed]",
      "text/plain": [
       "<Figure size 432x288 with 1 Axes>"
      ]
     },
     "metadata": {
      "needs_background": "light"
     },
     "output_type": "display_data"
    }
   ],
   "source": [
    "sns.scatterplot(x='TotalBsmtSF',y='SalePrice',data=train)"
   ]
  },
  {
   "cell_type": "markdown",
   "metadata": {},
   "source": [
    "### There are 2 very big houses but with very low price. Why? Let's check those 2 points: "
   ]
  },
  {
   "cell_type": "code",
   "execution_count": 126,
   "metadata": {},
   "outputs": [
    {
     "data": {
      "text/plain": [
       "523     10\n",
       "1298    10\n",
       "Name: OverallQual, dtype: int64"
      ]
     },
     "execution_count": 126,
     "metadata": {},
     "output_type": "execute_result"
    }
   ],
   "source": [
    "train[train['GrLivArea']>4500]['OverallQual']"
   ]
  },
  {
   "cell_type": "markdown",
   "metadata": {},
   "source": [
    "#### Maybe they're old?"
   ]
  },
  {
   "cell_type": "code",
   "execution_count": 127,
   "metadata": {},
   "outputs": [
    {
     "data": {
      "text/plain": [
       "523     2007\n",
       "1298    2008\n",
       "Name: YearBuilt, dtype: int64"
      ]
     },
     "execution_count": 127,
     "metadata": {},
     "output_type": "execute_result"
    }
   ],
   "source": [
    "train[train['GrLivArea']>4500]['YearBuilt']"
   ]
  },
  {
   "cell_type": "code",
   "execution_count": 128,
   "metadata": {},
   "outputs": [
    {
     "data": {
      "text/plain": [
       "<matplotlib.axes._subplots.AxesSubplot at 0x2b20d4324e0>"
      ]
     },
     "execution_count": 128,
     "metadata": {},
     "output_type": "execute_result"
    },
    {
     "data": {
      "image/png": "[encoded data removed]",
      "text/plain": [
       "<Figure size 432x288 with 1 Axes>"
      ]
     },
     "metadata": {
      "needs_background": "light"
     },
     "output_type": "display_data"
    }
   ],
   "source": [
    "sns.distplot(train['YearBuilt'])"
   ]
  },
  {
   "cell_type": "markdown",
   "metadata": {},
   "source": [
    "#### Not really: they are quite new... We will drop those 2 outliers for now (but first, we finish manipulating other features)"
   ]
  },
  {
   "cell_type": "markdown",
   "metadata": {},
   "source": [
    "### NOW WE NEED TO USE ONE-HOT ENCODING TO CONVERT CATEGORICAL FEATURES. \n",
    "#### However, some of them may have little correlation with target variable.\n",
    "### Let's explore categorical features:"
   ]
  },
  {
   "cell_type": "code",
   "execution_count": 129,
   "metadata": {},
   "outputs": [
    {
     "data": {
      "text/plain": [
       "<matplotlib.axes._subplots.AxesSubplot at 0x2b20d4a2f60>"
      ]
     },
     "execution_count": 129,
     "metadata": {},
     "output_type": "execute_result"
    },
    {
     "data": {
      "image/png": "[encoded data removed]",
      "text/plain": [
       "<Figure size 432x288 with 1 Axes>"
      ]
     },
     "metadata": {
      "needs_background": "light"
     },
     "output_type": "display_data"
    }
   ],
   "source": [
    "sns.boxplot(x='MSSubClass',y='SalePrice',data=train)"
   ]
  },
  {
   "cell_type": "code",
   "execution_count": 130,
   "metadata": {},
   "outputs": [
    {
     "data": {
      "text/plain": [
       "<matplotlib.axes._subplots.AxesSubplot at 0x2b20d4ec668>"
      ]
     },
     "execution_count": 130,
     "metadata": {},
     "output_type": "execute_result"
    },
    {
     "data": {
      "image/png": "[encoded data removed]",
      "text/plain": [
       "<Figure size 432x288 with 1 Axes>"
      ]
     },
     "metadata": {
      "needs_background": "light"
     },
     "output_type": "display_data"
    }
   ],
   "source": [
    "sns.boxplot(x='Street',y='SalePrice',data=train)"
   ]
  },
  {
   "cell_type": "code",
   "execution_count": 131,
   "metadata": {},
   "outputs": [
    {
     "data": {
      "text/plain": [
       "<matplotlib.axes._subplots.AxesSubplot at 0x2b20d628d30>"
      ]
     },
     "execution_count": 131,
     "metadata": {},
     "output_type": "execute_result"
    },
    {
     "data": {
      "image/png": "[encoded data removed]",
      "text/plain": [
       "<Figure size 432x288 with 1 Axes>"
      ]
     },
     "metadata": {
      "needs_background": "light"
     },
     "output_type": "display_data"
    }
   ],
   "source": [
    "sns.boxplot(x='LotShape',y='SalePrice',data=train)"
   ]
  },
  {
   "cell_type": "markdown",
   "metadata": {},
   "source": [
    "#### Ok, seems there is some degree of correlation. "
   ]
  },
  {
   "cell_type": "markdown",
   "metadata": {},
   "source": [
    "#### Some of the categorical features represent quality, so we can convert them into numerical features by using ranking:"
   ]
  },
  {
   "cell_type": "code",
   "execution_count": 133,
   "metadata": {},
   "outputs": [
    {
     "data": {
      "text/plain": [
       "array(['TA', 'Gd', 'Fa', 'Po', 'Ex'], dtype=object)"
      ]
     },
     "execution_count": 133,
     "metadata": {},
     "output_type": "execute_result"
    }
   ],
   "source": [
    "train['ExterCond'].unique() #Ex=excellent, Gd=Good, TA=average, Fa=fair, Po=Poor"
   ]
  },
  {
   "cell_type": "code",
   "execution_count": 134,
   "metadata": {},
   "outputs": [],
   "source": [
    "def quality(rank):\n",
    "    ranking = {'Ex':5, 'Gd':4, 'TA':3, 'Fa':2, 'Po':1}\n",
    "    if 'No' in rank:\n",
    "        return 0\n",
    "    return(ranking[rank])"
   ]
  },
  {
   "cell_type": "code",
   "execution_count": 135,
   "metadata": {},
   "outputs": [],
   "source": [
    "convert_to_quality_columns = ['ExterCond','ExterQual','BsmtQual','BsmtCond','HeatingQC',\n",
    "                             'KitchenQual','FireplaceQu','GarageQual','GarageCond','PoolQC'] \n",
    "\n",
    "for column in convert_to_quality_columns:\n",
    "    train[column] = train[column].apply(quality)"
   ]
  },
  {
   "cell_type": "code",
   "execution_count": 136,
   "metadata": {},
   "outputs": [
    {
     "data": {
      "text/plain": [
       "array([0, 3, 4, 2, 5, 1], dtype=int64)"
      ]
     },
     "execution_count": 136,
     "metadata": {},
     "output_type": "execute_result"
    }
   ],
   "source": [
    "train['FireplaceQu'].unique()"
   ]
  },
  {
   "cell_type": "code",
   "execution_count": 137,
   "metadata": {},
   "outputs": [
    {
     "data": {
      "text/plain": [
       "array(['GLQ', 'ALQ', 'Unf', 'Rec', 'BLQ', 'No_bf1', 'LwQ'], dtype=object)"
      ]
     },
     "execution_count": 137,
     "metadata": {},
     "output_type": "execute_result"
    }
   ],
   "source": [
    "train['BsmtFinType1'].unique()"
   ]
  },
  {
   "cell_type": "code",
   "execution_count": 138,
   "metadata": {},
   "outputs": [],
   "source": [
    "def quality_bas(rank):\n",
    "    ranking = {'GLQ':6, 'ALQ':5, 'BLQ':4, 'Rec':3, 'LwQ':2, 'Unf':1}\n",
    "    if 'No' in rank:\n",
    "        return 0\n",
    "    return(ranking[rank])\n",
    "\n",
    "train['BsmtFinType1'] = train['BsmtFinType1'].apply(quality_bas)\n",
    "train['BsmtFinType2'] = train['BsmtFinType2'].apply(quality_bas)"
   ]
  },
  {
   "cell_type": "code",
   "execution_count": 139,
   "metadata": {},
   "outputs": [],
   "source": [
    "train['CentralAir'] = train['CentralAir'].apply(lambda x: 1 if x=='Y' else 0)"
   ]
  },
  {
   "cell_type": "code",
   "execution_count": 140,
   "metadata": {},
   "outputs": [],
   "source": [
    "def finish_gar(rank):\n",
    "    ranking = {'Fin':3, 'RFn':2, 'Unf':1}\n",
    "    if 'No' in rank:\n",
    "        return 0\n",
    "    return(ranking[rank])\n",
    "    \n",
    "train['GarageFinish'] = train['GarageFinish'].apply(finish_gar)"
   ]
  },
  {
   "cell_type": "code",
   "execution_count": 141,
   "metadata": {},
   "outputs": [
    {
     "data": {
      "text/plain": [
       "array([2, 1, 3, 0], dtype=int64)"
      ]
     },
     "execution_count": 141,
     "metadata": {},
     "output_type": "execute_result"
    }
   ],
   "source": [
    "train['GarageFinish'].unique()"
   ]
  },
  {
   "cell_type": "code",
   "execution_count": 142,
   "metadata": {},
   "outputs": [
    {
     "data": {
      "text/plain": [
       "Index(['MSZoning', 'Street', 'Alley', 'LotShape', 'LandContour', 'Utilities',\n",
       "       'LotConfig', 'LandSlope', 'Neighborhood', 'Condition1', 'Condition2',\n",
       "       'BldgType', 'HouseStyle', 'RoofStyle', 'RoofMatl', 'Exterior1st',\n",
       "       'Exterior2nd', 'MasVnrType', 'Foundation', 'BsmtExposure', 'Heating',\n",
       "       'Electrical', 'Functional', 'GarageType', 'PavedDrive', 'Fence',\n",
       "       'MiscFeature', 'SaleType', 'SaleCondition'],\n",
       "      dtype='object')"
      ]
     },
     "execution_count": 142,
     "metadata": {},
     "output_type": "execute_result"
    }
   ],
   "source": [
    "train.select_dtypes(include='object').columns"
   ]
  },
  {
   "cell_type": "markdown",
   "metadata": {},
   "source": [
    "#### LandSlope has 3 values representing 3 different slopes: Gtl = gentle, Mod = moderate, Sev = severe slope. We can convert it into a numerical feature ranking slope from 1 to 3:"
   ]
  },
  {
   "cell_type": "code",
   "execution_count": 143,
   "metadata": {},
   "outputs": [
    {
     "data": {
      "text/plain": [
       "array(['Gtl', 'Mod', 'Sev'], dtype=object)"
      ]
     },
     "execution_count": 143,
     "metadata": {},
     "output_type": "execute_result"
    }
   ],
   "source": [
    "train['LandSlope'].unique()"
   ]
  },
  {
   "cell_type": "code",
   "execution_count": 144,
   "metadata": {},
   "outputs": [],
   "source": [
    "def slope(rank):\n",
    "    ranking = {'Gtl':1, 'Mod':2, 'Sev':3}\n",
    "    return(ranking[rank])\n",
    "\n",
    "train['LandSlope'] = train['LandSlope'].apply(slope)"
   ]
  },
  {
   "cell_type": "markdown",
   "metadata": {},
   "source": [
    "#### We can't do much about the other features - let's use one-hot encoding:"
   ]
  },
  {
   "cell_type": "code",
   "execution_count": 145,
   "metadata": {},
   "outputs": [],
   "source": [
    "categorical_features = list(train.select_dtypes(include='object').columns)"
   ]
  },
  {
   "cell_type": "code",
   "execution_count": 146,
   "metadata": {},
   "outputs": [],
   "source": [
    "dummies = []\n",
    "for feat in categorical_features:    \n",
    "    dummies.append(pd.get_dummies(train[feat],drop_first=True))\n",
    "\n",
    "train.drop(categorical_features,axis=1,inplace=True)\n",
    "dummies.append(train)\n",
    "\n",
    "train = pd.concat(dummies,axis=1)"
   ]
  },
  {
   "cell_type": "code",
   "execution_count": 147,
   "metadata": {},
   "outputs": [
    {
     "data": {
      "text/plain": [
       "Index(['FV', 'RH', 'RL', 'RM', 'Pave', 'No_all', 'Pave', 'IR2', 'IR3', 'Reg',\n",
       "       ...\n",
       "       'OpenPorchSF', 'EnclosedPorch', '3SsnPorch', 'ScreenPorch', 'PoolArea',\n",
       "       'PoolQC', 'MiscVal', 'MoSold', 'YrSold', 'SalePrice'],\n",
       "      dtype='object', length=219)"
      ]
     },
     "execution_count": 147,
     "metadata": {},
     "output_type": "execute_result"
    }
   ],
   "source": [
    "train.columns"
   ]
  },
  {
   "cell_type": "markdown",
   "metadata": {},
   "source": [
    "### GOOD! NOW WE HAVE ALL NUMERICAL FEATURES. In total, 219 features."
   ]
  },
  {
   "cell_type": "markdown",
   "metadata": {},
   "source": [
    "#### Now let's explore the degree of correlation with the target variable:"
   ]
  },
  {
   "cell_type": "code",
   "execution_count": 148,
   "metadata": {},
   "outputs": [
    {
     "data": {
      "text/plain": [
       "OverallQual     0.790982\n",
       "GrLivArea       0.708624\n",
       "ExterQual       0.682639\n",
       "KitchenQual     0.659600\n",
       "GarageCars      0.640409\n",
       "GarageArea      0.623431\n",
       "TotalBsmtSF     0.613581\n",
       "1stFlrSF        0.605852\n",
       "BsmtQual        0.585207\n",
       "FullBath        0.560664\n",
       "GarageFinish    0.549247\n",
       "TotRmsAbvGrd    0.533723\n",
       "YearBuilt       0.522897\n",
       "FireplaceQu     0.520438\n",
       "YearRemodAdd    0.507101\n",
       "PConc           0.497734\n",
       "MasVnrArea      0.472614\n",
       "Fireplaces      0.466929\n",
       "HeatingQC       0.427649\n",
       "NridgHt         0.402149\n",
       "Name: SalePrice, dtype: float64"
      ]
     },
     "execution_count": 148,
     "metadata": {},
     "output_type": "execute_result"
    }
   ],
   "source": [
    "abs(train.corr()['SalePrice'].drop('SalePrice').sort_values(ascending=False).head(20))"
   ]
  },
  {
   "cell_type": "markdown",
   "metadata": {},
   "source": [
    "### Final step: we remove the 2 outliers. We also make a copy of the dataset, so at the end,  we will compare results with/without outliers."
   ]
  },
  {
   "cell_type": "code",
   "execution_count": 149,
   "metadata": {},
   "outputs": [],
   "source": [
    "train_copy =pd.DataFrame(train) #We make a copy of the dataset with outliers\n",
    "train.drop(index=[523,1298],axis=0,inplace=True) #outliers"
   ]
  },
  {
   "cell_type": "markdown",
   "metadata": {},
   "source": [
    "# REGRESSION"
   ]
  },
  {
   "cell_type": "markdown",
   "metadata": {},
   "source": [
    "### NOW WE CAN START THE REGRESSION. WE WILL TRY THE FOLLOWING APPROACHES: \n",
    "* WE KEEP ONLY HIGH-CORR. FEATURES AND DO LINEAR REGRESSION\n",
    "* WE TRY TO FIND IDEAL NUMBER OF FEATURES USING L1 (LASSO) REGULARIZATION\n",
    "* WE TRY TO FIND IDEAL NUMBER OF FEATURES USING L2 (RIDGE) REGRESSION\n",
    "* WE USE PCA TO REDUCE DIMENSIONS\n",
    "* WE USE XGBOOST"
   ]
  },
  {
   "cell_type": "markdown",
   "metadata": {},
   "source": [
    "### Linear regression keeping 5 features with highest correlation"
   ]
  },
  {
   "cell_type": "code",
   "execution_count": 59,
   "metadata": {},
   "outputs": [
    {
     "data": {
      "text/plain": [
       "<seaborn.axisgrid.FacetGrid at 0x2b2749cab38>"
      ]
     },
     "execution_count": 59,
     "metadata": {},
     "output_type": "execute_result"
    },
    {
     "data": {
      "image/png": "[encoded data removed]",
      "text/plain": [
       "<Figure size 360x360 with 1 Axes>"
      ]
     },
     "metadata": {
      "needs_background": "light"
     },
     "output_type": "display_data"
    }
   ],
   "source": [
    "sns.lmplot(x='GrLivArea',y='SalePrice',data=train)"
   ]
  },
  {
   "cell_type": "code",
   "execution_count": 60,
   "metadata": {},
   "outputs": [],
   "source": [
    "from sklearn.model_selection import train_test_split\n",
    "from sklearn.preprocessing import MinMaxScaler\n",
    "from sklearn.linear_model import LinearRegression"
   ]
  },
  {
   "cell_type": "code",
   "execution_count": 62,
   "metadata": {},
   "outputs": [
    {
     "name": "stdout",
     "output_type": "stream",
     "text": [
      "RMSE: 32985.77401288953\n"
     ]
    },
    {
     "data": {
      "image/png": "[encoded data removed]",
      "text/plain": [
       "<Figure size 432x288 with 1 Axes>"
      ]
     },
     "metadata": {
      "needs_background": "light"
     },
     "output_type": "display_data"
    }
   ],
   "source": [
    "X = train[['OverallQual','GrLivArea','ExterQual','KitchenQual','GarageCars']] #5 highest-corr\n",
    "y = train['SalePrice']\n",
    "X_train, X_test, y_train, y_test = train_test_split(X, y, test_size=0.2, random_state=101)\n",
    "\n",
    "scaler = MinMaxScaler()\n",
    "X_train = scaler.fit_transform(X_train)\n",
    "X_test = scaler.transform(X_test)\n",
    "\n",
    "lm = LinearRegression()\n",
    "lm.fit(X_train,y_train)\n",
    "predictions = lm.predict(X_test)\n",
    "\n",
    "plt.scatter(y_test,predictions)\n",
    "plt.xlabel('Y Test')\n",
    "plt.ylabel('Predicted Y')\n",
    "\n",
    "from sklearn import metrics\n",
    "\n",
    "print('RMSE:', np.sqrt(metrics.mean_squared_error(y_test, predictions)))"
   ]
  },
  {
   "cell_type": "code",
   "execution_count": 66,
   "metadata": {},
   "outputs": [
    {
     "data": {
      "text/plain": [
       "180932.91906721535"
      ]
     },
     "execution_count": 66,
     "metadata": {},
     "output_type": "execute_result"
    }
   ],
   "source": [
    "np.mean(train['SalePrice'])"
   ]
  },
  {
   "cell_type": "code",
   "execution_count": 65,
   "metadata": {},
   "outputs": [
    {
     "data": {
      "text/plain": [
       "79467.78892987774"
      ]
     },
     "execution_count": 65,
     "metadata": {},
     "output_type": "execute_result"
    }
   ],
   "source": [
    "np.std(train['SalePrice'])"
   ]
  },
  {
   "cell_type": "markdown",
   "metadata": {},
   "source": [
    "### RMSE of predictions is 33.0k, while average sale price is 180.1k. Let's see if we improve by adding 5 features with high correlation:"
   ]
  },
  {
   "cell_type": "code",
   "execution_count": 67,
   "metadata": {},
   "outputs": [
    {
     "name": "stdout",
     "output_type": "stream",
     "text": [
      "RMSE: 31000.357101532023\n"
     ]
    },
    {
     "data": {
      "image/png": "[encoded data removed]",
      "text/plain": [
       "<Figure size 432x288 with 1 Axes>"
      ]
     },
     "metadata": {
      "needs_background": "light"
     },
     "output_type": "display_data"
    }
   ],
   "source": [
    "X = train[['OverallQual','GrLivArea','ExterQual','KitchenQual','GarageCars',\n",
    "           'GarageArea','TotalBsmtSF','1stFlrSF','BsmtQual','GarageFinish']]\n",
    "y = train['SalePrice']\n",
    "\n",
    "X_train, X_test, y_train, y_test = train_test_split(X, y, test_size=0.2, random_state=101)\n",
    "\n",
    "scaler = MinMaxScaler()\n",
    "X_train = scaler.fit_transform(X_train)\n",
    "X_test = scaler.transform(X_test)\n",
    "\n",
    "lm = LinearRegression()\n",
    "lm.fit(X_train,y_train)\n",
    "predictions = lm.predict(X_test)\n",
    "\n",
    "plt.scatter(y_test,predictions)\n",
    "plt.xlabel('Y Test')\n",
    "plt.ylabel('Predicted Y')\n",
    "\n",
    "from sklearn import metrics\n",
    "\n",
    "print('RMSE:', np.sqrt(metrics.mean_squared_error(y_test, predictions)))"
   ]
  },
  {
   "cell_type": "markdown",
   "metadata": {},
   "source": [
    "### RMSE down to 31.0k. So, let's use Ridge and Lasso regularization to find optimal number of features to be included."
   ]
  },
  {
   "cell_type": "markdown",
   "metadata": {},
   "source": [
    "### Ridge regularization:"
   ]
  },
  {
   "cell_type": "code",
   "execution_count": 68,
   "metadata": {},
   "outputs": [],
   "source": [
    "X = train.drop('SalePrice',axis=1)\n",
    "y = train['SalePrice']\n",
    "X_train, X_test, y_train, y_test = train_test_split(X, y, test_size=0.2, random_state=101)"
   ]
  },
  {
   "cell_type": "code",
   "execution_count": 69,
   "metadata": {},
   "outputs": [
    {
     "name": "stdout",
     "output_type": "stream",
     "text": [
      "RMSE: 25890.97247015456\n",
      "alpha:  20.09233002565046\n"
     ]
    }
   ],
   "source": [
    "import warnings\n",
    "warnings.filterwarnings('ignore')\n",
    "\n",
    "from sklearn.linear_model import RidgeCV\n",
    "alpha_list = np.logspace(-3, 3, 100)\n",
    "#print(alpha_list)\n",
    "rid = RidgeCV(cv=5, alphas=alpha_list)\n",
    "rid.fit(X_train, y_train)\n",
    "predictions = rid.predict(X_test)\n",
    "\n",
    "print('RMSE:', np.sqrt(metrics.mean_squared_error(y_test, predictions)))\n",
    "print('alpha: ',rid.alpha_)"
   ]
  },
  {
   "cell_type": "markdown",
   "metadata": {},
   "source": [
    "### Best result is with alpha=20,where we get an rmse of about 25.9k:"
   ]
  },
  {
   "cell_type": "code",
   "execution_count": 70,
   "metadata": {},
   "outputs": [
    {
     "data": {
      "text/plain": [
       "Text(0, 0.5, 'Predicted Y')"
      ]
     },
     "execution_count": 70,
     "metadata": {},
     "output_type": "execute_result"
    },
    {
     "data": {
      "image/png": "[encoded data removed]",
      "text/plain": [
       "<Figure size 432x288 with 1 Axes>"
      ]
     },
     "metadata": {
      "needs_background": "light"
     },
     "output_type": "display_data"
    }
   ],
   "source": [
    "plt.scatter(y_test,predictions)\n",
    "plt.xlabel('Y Test')\n",
    "plt.ylabel('Predicted Y')"
   ]
  },
  {
   "cell_type": "markdown",
   "metadata": {},
   "source": [
    "### Lasso regularization:"
   ]
  },
  {
   "cell_type": "code",
   "execution_count": 71,
   "metadata": {},
   "outputs": [
    {
     "name": "stdout",
     "output_type": "stream",
     "text": [
      "RMSE: 25556.704809656334\n",
      "alpha:  123.28467394420659\n",
      "number of features:  92\n"
     ]
    },
    {
     "data": {
      "text/plain": [
       "Text(0, 0.5, 'Predicted Y')"
      ]
     },
     "execution_count": 71,
     "metadata": {},
     "output_type": "execute_result"
    },
    {
     "data": {
      "image/png": "[encoded data removed]",
      "text/plain": [
       "<Figure size 432x288 with 1 Axes>"
      ]
     },
     "metadata": {
      "needs_background": "light"
     },
     "output_type": "display_data"
    }
   ],
   "source": [
    "import warnings\n",
    "warnings.filterwarnings('ignore')\n",
    "\n",
    "from sklearn.linear_model import LassoCV\n",
    "alpha_list = np.logspace(-3, 3, 100)\n",
    "#print(alpha_list)\n",
    "las = LassoCV(cv=5, alphas=alpha_list, random_state=101)\n",
    "las.fit(X_train, y_train)\n",
    "predictions = las.predict(X_test)\n",
    "\n",
    "print('RMSE:', np.sqrt(metrics.mean_squared_error(y_test, predictions)))\n",
    "print('alpha: ',las.alpha_)\n",
    "print('number of features: ',np.sum(las.coef_!=0))\n",
    "\n",
    "plt.scatter(y_test,predictions)\n",
    "plt.xlabel('Y Test')\n",
    "plt.ylabel('Predicted Y')"
   ]
  },
  {
   "cell_type": "markdown",
   "metadata": {},
   "source": [
    "### Here we find that the ideal number of features is n=92 (alpha=123), where we get an rmse of 25.6k. Not bad!"
   ]
  },
  {
   "cell_type": "markdown",
   "metadata": {},
   "source": [
    "## Principal component analysis"
   ]
  },
  {
   "cell_type": "code",
   "execution_count": 73,
   "metadata": {},
   "outputs": [],
   "source": [
    "from sklearn.decomposition import PCA"
   ]
  },
  {
   "cell_type": "code",
   "execution_count": 74,
   "metadata": {},
   "outputs": [
    {
     "data": {
      "text/plain": [
       "<matplotlib.axes._subplots.AxesSubplot at 0x2b274d53198>"
      ]
     },
     "execution_count": 74,
     "metadata": {},
     "output_type": "execute_result"
    },
    {
     "data": {
      "image/png": "[encoded data removed]",
      "text/plain": [
       "<Figure size 432x288 with 1 Axes>"
      ]
     },
     "metadata": {
      "needs_background": "light"
     },
     "output_type": "display_data"
    }
   ],
   "source": [
    "pca = PCA(n_components=2)\n",
    "X_train_pca = pca.fit_transform(X_train)\n",
    "sns.scatterplot(X_train_pca[:,0],y_train)"
   ]
  },
  {
   "cell_type": "markdown",
   "metadata": {},
   "source": [
    "#### We want to try by decomposing into different number of components:"
   ]
  },
  {
   "cell_type": "code",
   "execution_count": 75,
   "metadata": {},
   "outputs": [
    {
     "data": {
      "text/html": [
       "<div>\n",
       "<style scoped>\n",
       "    .dataframe tbody tr th:only-of-type {\n",
       "        vertical-align: middle;\n",
       "    }\n",
       "\n",
       "    .dataframe tbody tr th {\n",
       "        vertical-align: top;\n",
       "    }\n",
       "\n",
       "    .dataframe thead th {\n",
       "        text-align: right;\n",
       "    }\n",
       "</style>\n",
       "<table border=\"1\" class=\"dataframe\">\n",
       "  <thead>\n",
       "    <tr style=\"text-align: right;\">\n",
       "      <th></th>\n",
       "      <th>components</th>\n",
       "      <th>rmse</th>\n",
       "      <th>train_score</th>\n",
       "      <th>test_score</th>\n",
       "    </tr>\n",
       "  </thead>\n",
       "  <tbody>\n",
       "    <tr>\n",
       "      <th>0</th>\n",
       "      <td>2</td>\n",
       "      <td>41615.213178</td>\n",
       "      <td>0.711936</td>\n",
       "      <td>0.643572</td>\n",
       "    </tr>\n",
       "    <tr>\n",
       "      <th>1</th>\n",
       "      <td>3</td>\n",
       "      <td>41811.069695</td>\n",
       "      <td>0.717207</td>\n",
       "      <td>0.640209</td>\n",
       "    </tr>\n",
       "    <tr>\n",
       "      <th>2</th>\n",
       "      <td>5</td>\n",
       "      <td>40045.893225</td>\n",
       "      <td>0.735958</td>\n",
       "      <td>0.669947</td>\n",
       "    </tr>\n",
       "    <tr>\n",
       "      <th>3</th>\n",
       "      <td>10</td>\n",
       "      <td>38069.682432</td>\n",
       "      <td>0.776889</td>\n",
       "      <td>0.701718</td>\n",
       "    </tr>\n",
       "    <tr>\n",
       "      <th>4</th>\n",
       "      <td>20</td>\n",
       "      <td>34557.796993</td>\n",
       "      <td>0.828659</td>\n",
       "      <td>0.754212</td>\n",
       "    </tr>\n",
       "    <tr>\n",
       "      <th>5</th>\n",
       "      <td>50</td>\n",
       "      <td>27867.181242</td>\n",
       "      <td>0.901350</td>\n",
       "      <td>0.840172</td>\n",
       "    </tr>\n",
       "    <tr>\n",
       "      <th>6</th>\n",
       "      <td>70</td>\n",
       "      <td>27177.058081</td>\n",
       "      <td>0.908793</td>\n",
       "      <td>0.847990</td>\n",
       "    </tr>\n",
       "    <tr>\n",
       "      <th>7</th>\n",
       "      <td>90</td>\n",
       "      <td>26789.431573</td>\n",
       "      <td>0.915850</td>\n",
       "      <td>0.852295</td>\n",
       "    </tr>\n",
       "    <tr>\n",
       "      <th>8</th>\n",
       "      <td>95</td>\n",
       "      <td>26817.816851</td>\n",
       "      <td>0.917020</td>\n",
       "      <td>0.851982</td>\n",
       "    </tr>\n",
       "    <tr>\n",
       "      <th>9</th>\n",
       "      <td>100</td>\n",
       "      <td>26667.523935</td>\n",
       "      <td>0.918818</td>\n",
       "      <td>0.853636</td>\n",
       "    </tr>\n",
       "    <tr>\n",
       "      <th>10</th>\n",
       "      <td>105</td>\n",
       "      <td>26383.787249</td>\n",
       "      <td>0.920463</td>\n",
       "      <td>0.856734</td>\n",
       "    </tr>\n",
       "    <tr>\n",
       "      <th>11</th>\n",
       "      <td>110</td>\n",
       "      <td>26162.697253</td>\n",
       "      <td>0.921515</td>\n",
       "      <td>0.859125</td>\n",
       "    </tr>\n",
       "    <tr>\n",
       "      <th>12</th>\n",
       "      <td>130</td>\n",
       "      <td>26718.747867</td>\n",
       "      <td>0.927826</td>\n",
       "      <td>0.853073</td>\n",
       "    </tr>\n",
       "    <tr>\n",
       "      <th>13</th>\n",
       "      <td>150</td>\n",
       "      <td>26663.977316</td>\n",
       "      <td>0.929452</td>\n",
       "      <td>0.853675</td>\n",
       "    </tr>\n",
       "    <tr>\n",
       "      <th>14</th>\n",
       "      <td>200</td>\n",
       "      <td>26448.819178</td>\n",
       "      <td>0.935771</td>\n",
       "      <td>0.856027</td>\n",
       "    </tr>\n",
       "  </tbody>\n",
       "</table>\n",
       "</div>"
      ],
      "text/plain": [
       "    components          rmse  train_score  test_score\n",
       "0            2  41615.213178     0.711936    0.643572\n",
       "1            3  41811.069695     0.717207    0.640209\n",
       "2            5  40045.893225     0.735958    0.669947\n",
       "3           10  38069.682432     0.776889    0.701718\n",
       "4           20  34557.796993     0.828659    0.754212\n",
       "5           50  27867.181242     0.901350    0.840172\n",
       "6           70  27177.058081     0.908793    0.847990\n",
       "7           90  26789.431573     0.915850    0.852295\n",
       "8           95  26817.816851     0.917020    0.851982\n",
       "9          100  26667.523935     0.918818    0.853636\n",
       "10         105  26383.787249     0.920463    0.856734\n",
       "11         110  26162.697253     0.921515    0.859125\n",
       "12         130  26718.747867     0.927826    0.853073\n",
       "13         150  26663.977316     0.929452    0.853675\n",
       "14         200  26448.819178     0.935771    0.856027"
      ]
     },
     "execution_count": 75,
     "metadata": {},
     "output_type": "execute_result"
    }
   ],
   "source": [
    "components = [2,3,5,10,20,50,70,90,95,100,105,110,130,150,200]\n",
    "rmse = []\n",
    "train_score = []\n",
    "test_score = []\n",
    "lm = LinearRegression()\n",
    "    \n",
    "for n in components:\n",
    "    pca = PCA(n_components=n)\n",
    "    X_train_pca = pca.fit_transform(X_train)\n",
    "    X_test_pca = pca.transform(X_test)\n",
    "    lm.fit(X_train_pca,y_train)\n",
    "    predictions = lm.predict(X_test_pca)\n",
    "    rmse.append(np.sqrt(metrics.mean_squared_error(y_test, predictions)))\n",
    "    train_score.append(lm.score(X_train_pca,y_train))\n",
    "    test_score.append(lm.score(X_test_pca,y_test))\n",
    "    \n",
    "results_pca = pd.DataFrame(list(zip(components,rmse,train_score,test_score)),\n",
    "                       columns=['components','rmse','train_score','test_score'])\n",
    "results_pca"
   ]
  },
  {
   "cell_type": "markdown",
   "metadata": {},
   "source": [
    "### Best result is with n=110 components, where RMSE is about 26.2k. Slightly worse than Lasso+linear regression."
   ]
  },
  {
   "cell_type": "markdown",
   "metadata": {},
   "source": [
    "## XGBoost analysis \n",
    "#### Problem: it doesn't accept duplicated columns. We need to rename some of them."
   ]
  },
  {
   "cell_type": "code",
   "execution_count": 77,
   "metadata": {},
   "outputs": [
    {
     "data": {
      "text/plain": [
       "['Pave',\n",
       " 'Feedr',\n",
       " 'Norm',\n",
       " 'PosA',\n",
       " 'PosN',\n",
       " 'RRAe',\n",
       " 'RRAn',\n",
       " 'RRNn',\n",
       " 'AsphShn',\n",
       " 'BrkFace',\n",
       " 'CBlock',\n",
       " 'HdBoard',\n",
       " 'ImStucc',\n",
       " 'MetalSd',\n",
       " 'Plywood',\n",
       " 'Stone',\n",
       " 'Stucco',\n",
       " 'VinylSd',\n",
       " 'Wd Sdng',\n",
       " 'BrkFace',\n",
       " 'Stone',\n",
       " 'CBlock',\n",
       " 'Stone',\n",
       " 'Shed']"
      ]
     },
     "execution_count": 77,
     "metadata": {},
     "output_type": "execute_result"
    }
   ],
   "source": [
    "duplicated = list(X_train.loc[:,X_train.columns.duplicated()].columns)\n",
    "duplicated"
   ]
  },
  {
   "cell_type": "code",
   "execution_count": 78,
   "metadata": {},
   "outputs": [],
   "source": [
    "duplicated = list(X_train.loc[:,X_train.columns.duplicated()].columns)\n",
    "duplicated\n",
    "\n",
    "cols = []\n",
    "count = 1\n",
    "for column in X_train.columns:\n",
    "    if column in duplicated:\n",
    "        cols.append(f'{column}_{count}')\n",
    "        count+=1\n",
    "        continue\n",
    "    cols.append(column)\n",
    "X_train.columns = cols\n",
    "X_test.columns = cols"
   ]
  },
  {
   "cell_type": "code",
   "execution_count": 80,
   "metadata": {},
   "outputs": [
    {
     "data": {
      "text/plain": [
       "XGBRegressor(base_score=0.5, booster='gbtree', colsample_bylevel=1,\n",
       "             colsample_bynode=1, colsample_bytree=1, gamma=0, gpu_id=-1,\n",
       "             importance_type='gain', interaction_constraints='',\n",
       "             learning_rate=0.300000012, max_delta_step=0, max_depth=6,\n",
       "             min_child_weight=1, missing=nan, monotone_constraints='()',\n",
       "             n_estimators=100, n_jobs=0, num_parallel_tree=1, random_state=101,\n",
       "             reg_alpha=0, reg_lambda=1, scale_pos_weight=1, subsample=1,\n",
       "             tree_method='exact', validate_parameters=1, verbosity=None)"
      ]
     },
     "execution_count": 80,
     "metadata": {},
     "output_type": "execute_result"
    }
   ],
   "source": [
    "import xgboost as xgb\n",
    "xgb_model = xgb.XGBRegressor(random_state=101)\n",
    "xgb_model.fit(X_train,y_train)"
   ]
  },
  {
   "cell_type": "code",
   "execution_count": 81,
   "metadata": {},
   "outputs": [
    {
     "name": "stdout",
     "output_type": "stream",
     "text": [
      "RMSE: 24773.216147969273\n"
     ]
    }
   ],
   "source": [
    "predictions = xgb_model.predict(X_test)\n",
    "print('RMSE:', np.sqrt(metrics.mean_squared_error(y_test, predictions)))"
   ]
  },
  {
   "cell_type": "markdown",
   "metadata": {},
   "source": [
    "### RMSE using default parameters is 24.7k. Not bad. Let's see if we can improve by tuning parameters."
   ]
  },
  {
   "cell_type": "code",
   "execution_count": 83,
   "metadata": {},
   "outputs": [
    {
     "name": "stdout",
     "output_type": "stream",
     "text": [
      "Fitting 5 folds for each of 5 candidates, totalling 25 fits\n",
      "[CV] max_depth=3 .....................................................\n"
     ]
    },
    {
     "name": "stderr",
     "output_type": "stream",
     "text": [
      "[Parallel(n_jobs=1)]: Using backend SequentialBackend with 1 concurrent workers.\n"
     ]
    },
    {
     "name": "stdout",
     "output_type": "stream",
     "text": [
      "[CV] ......................... max_depth=3, score=0.916, total=   1.2s\n",
      "[CV] max_depth=3 .....................................................\n"
     ]
    },
    {
     "name": "stderr",
     "output_type": "stream",
     "text": [
      "[Parallel(n_jobs=1)]: Done   1 out of   1 | elapsed:    1.1s remaining:    0.0s\n"
     ]
    },
    {
     "name": "stdout",
     "output_type": "stream",
     "text": [
      "[CV] ......................... max_depth=3, score=0.907, total=   0.8s\n",
      "[CV] max_depth=3 .....................................................\n"
     ]
    },
    {
     "name": "stderr",
     "output_type": "stream",
     "text": [
      "[Parallel(n_jobs=1)]: Done   2 out of   2 | elapsed:    1.9s remaining:    0.0s\n"
     ]
    },
    {
     "name": "stdout",
     "output_type": "stream",
     "text": [
      "[CV] ......................... max_depth=3, score=0.904, total=   0.6s\n",
      "[CV] max_depth=3 .....................................................\n",
      "[CV] ......................... max_depth=3, score=0.911, total=   0.7s\n",
      "[CV] max_depth=3 .....................................................\n",
      "[CV] ......................... max_depth=3, score=0.870, total=   0.7s\n",
      "[CV] max_depth=4 .....................................................\n",
      "[CV] ......................... max_depth=4, score=0.882, total=   0.7s\n",
      "[CV] max_depth=4 .....................................................\n",
      "[CV] ......................... max_depth=4, score=0.917, total=   0.7s\n",
      "[CV] max_depth=4 .....................................................\n",
      "[CV] ......................... max_depth=4, score=0.898, total=   0.6s\n",
      "[CV] max_depth=4 .....................................................\n",
      "[CV] ......................... max_depth=4, score=0.917, total=   0.6s\n",
      "[CV] max_depth=4 .....................................................\n",
      "[CV] ......................... max_depth=4, score=0.894, total=   0.7s\n",
      "[CV] max_depth=5 .....................................................\n",
      "[CV] ......................... max_depth=5, score=0.884, total=   0.8s\n",
      "[CV] max_depth=5 .....................................................\n",
      "[CV] ......................... max_depth=5, score=0.867, total=   0.9s\n",
      "[CV] max_depth=5 .....................................................\n",
      "[CV] ......................... max_depth=5, score=0.894, total=   0.8s\n",
      "[CV] max_depth=5 .....................................................\n",
      "[CV] ......................... max_depth=5, score=0.900, total=   0.7s\n",
      "[CV] max_depth=5 .....................................................\n",
      "[CV] ......................... max_depth=5, score=0.882, total=   0.8s\n",
      "[CV] max_depth=6 .....................................................\n",
      "[CV] ......................... max_depth=6, score=0.885, total=   1.0s\n",
      "[CV] max_depth=6 .....................................................\n",
      "[CV] ......................... max_depth=6, score=0.900, total=   0.9s\n",
      "[CV] max_depth=6 .....................................................\n",
      "[CV] ......................... max_depth=6, score=0.898, total=   0.9s\n",
      "[CV] max_depth=6 .....................................................\n",
      "[CV] ......................... max_depth=6, score=0.905, total=   0.9s\n",
      "[CV] max_depth=6 .....................................................\n",
      "[CV] ......................... max_depth=6, score=0.883, total=   0.9s\n",
      "[CV] max_depth=7 .....................................................\n",
      "[CV] ......................... max_depth=7, score=0.869, total=   1.1s\n",
      "[CV] max_depth=7 .....................................................\n",
      "[CV] ......................... max_depth=7, score=0.890, total=   1.1s\n",
      "[CV] max_depth=7 .....................................................\n",
      "[CV] ......................... max_depth=7, score=0.886, total=   0.9s\n",
      "[CV] max_depth=7 .....................................................\n",
      "[CV] ......................... max_depth=7, score=0.912, total=   1.0s\n",
      "[CV] max_depth=7 .....................................................\n",
      "[CV] ......................... max_depth=7, score=0.894, total=   1.0s\n"
     ]
    },
    {
     "name": "stderr",
     "output_type": "stream",
     "text": [
      "[Parallel(n_jobs=1)]: Done  25 out of  25 | elapsed:   21.3s finished\n"
     ]
    },
    {
     "data": {
      "text/plain": [
       "GridSearchCV(estimator=XGBRegressor(base_score=None, booster=None,\n",
       "                                    colsample_bylevel=None,\n",
       "                                    colsample_bynode=None,\n",
       "                                    colsample_bytree=None, gamma=None,\n",
       "                                    gpu_id=None, importance_type='gain',\n",
       "                                    interaction_constraints=None,\n",
       "                                    learning_rate=None, max_delta_step=None,\n",
       "                                    max_depth=None, min_child_weight=None,\n",
       "                                    missing=nan, monotone_constraints=None,\n",
       "                                    n_estimators=100, n_jobs=None,\n",
       "                                    num_parallel_tree=None, random_state=None,\n",
       "                                    reg_alpha=None, reg_lambda=None,\n",
       "                                    scale_pos_weight=None, subsample=None,\n",
       "                                    tree_method=None, validate_parameters=None,\n",
       "                                    verbosity=None),\n",
       "             param_grid={'max_depth': [3, 4, 5, 6, 7]}, verbose=3)"
      ]
     },
     "execution_count": 83,
     "metadata": {},
     "output_type": "execute_result"
    }
   ],
   "source": [
    "from sklearn.model_selection import GridSearchCV\n",
    "param_grid = {'max_depth':[3,4,5,6,7]} #Depth of decision tree\n",
    "grid = GridSearchCV(xgb.XGBRegressor(),param_grid,refit=True,verbose=3)\n",
    "grid.fit(X_train,y_train)"
   ]
  },
  {
   "cell_type": "code",
   "execution_count": 84,
   "metadata": {},
   "outputs": [
    {
     "data": {
      "text/plain": [
       "{'max_depth': 3}"
      ]
     },
     "execution_count": 84,
     "metadata": {},
     "output_type": "execute_result"
    }
   ],
   "source": [
    "grid.best_params_"
   ]
  },
  {
   "cell_type": "code",
   "execution_count": 85,
   "metadata": {},
   "outputs": [
    {
     "name": "stdout",
     "output_type": "stream",
     "text": [
      "RMSE: 23680.02850650426\n"
     ]
    }
   ],
   "source": [
    "predictions = grid.predict(X_test)\n",
    "print('RMSE:', np.sqrt(metrics.mean_squared_error(y_test, predictions)))"
   ]
  },
  {
   "cell_type": "markdown",
   "metadata": {},
   "source": [
    "### It seems we had an improvement by tuning the parameter max_depth: now RMSE is 23.7k. Can we do better by tuning more parameters?"
   ]
  },
  {
   "cell_type": "code",
   "execution_count": 86,
   "metadata": {},
   "outputs": [
    {
     "name": "stdout",
     "output_type": "stream",
     "text": [
      "Fitting 5 folds for each of 18 candidates, totalling 90 fits\n",
      "[CV] alpha=0.1, gamma=0, min_child_weight=1 ..........................\n"
     ]
    },
    {
     "name": "stderr",
     "output_type": "stream",
     "text": [
      "[Parallel(n_jobs=1)]: Using backend SequentialBackend with 1 concurrent workers.\n"
     ]
    },
    {
     "name": "stdout",
     "output_type": "stream",
     "text": [
      "[CV]  alpha=0.1, gamma=0, min_child_weight=1, score=0.916, total=   1.2s\n",
      "[CV] alpha=0.1, gamma=0, min_child_weight=1 ..........................\n"
     ]
    },
    {
     "name": "stderr",
     "output_type": "stream",
     "text": [
      "[Parallel(n_jobs=1)]: Done   1 out of   1 | elapsed:    1.1s remaining:    0.0s\n"
     ]
    },
    {
     "name": "stdout",
     "output_type": "stream",
     "text": [
      "[CV]  alpha=0.1, gamma=0, min_child_weight=1, score=0.907, total=   0.6s\n",
      "[CV] alpha=0.1, gamma=0, min_child_weight=1 ..........................\n"
     ]
    },
    {
     "name": "stderr",
     "output_type": "stream",
     "text": [
      "[Parallel(n_jobs=1)]: Done   2 out of   2 | elapsed:    1.7s remaining:    0.0s\n"
     ]
    },
    {
     "name": "stdout",
     "output_type": "stream",
     "text": [
      "[CV]  alpha=0.1, gamma=0, min_child_weight=1, score=0.904, total=   0.6s\n",
      "[CV] alpha=0.1, gamma=0, min_child_weight=1 ..........................\n",
      "[CV]  alpha=0.1, gamma=0, min_child_weight=1, score=0.911, total=   0.6s\n",
      "[CV] alpha=0.1, gamma=0, min_child_weight=1 ..........................\n",
      "[CV]  alpha=0.1, gamma=0, min_child_weight=1, score=0.870, total=   0.6s\n",
      "[CV] alpha=0.1, gamma=0, min_child_weight=3 ..........................\n",
      "[CV]  alpha=0.1, gamma=0, min_child_weight=3, score=0.921, total=   0.6s\n",
      "[CV] alpha=0.1, gamma=0, min_child_weight=3 ..........................\n",
      "[CV]  alpha=0.1, gamma=0, min_child_weight=3, score=0.910, total=   0.6s\n",
      "[CV] alpha=0.1, gamma=0, min_child_weight=3 ..........................\n",
      "[CV]  alpha=0.1, gamma=0, min_child_weight=3, score=0.896, total=   0.6s\n",
      "[CV] alpha=0.1, gamma=0, min_child_weight=3 ..........................\n",
      "[CV]  alpha=0.1, gamma=0, min_child_weight=3, score=0.908, total=   0.7s\n",
      "[CV] alpha=0.1, gamma=0, min_child_weight=3 ..........................\n",
      "[CV]  alpha=0.1, gamma=0, min_child_weight=3, score=0.883, total=   0.6s\n",
      "[CV] alpha=0.1, gamma=0, min_child_weight=5 ..........................\n",
      "[CV]  alpha=0.1, gamma=0, min_child_weight=5, score=0.915, total=   0.6s\n",
      "[CV] alpha=0.1, gamma=0, min_child_weight=5 ..........................\n",
      "[CV]  alpha=0.1, gamma=0, min_child_weight=5, score=0.909, total=   0.7s\n",
      "[CV] alpha=0.1, gamma=0, min_child_weight=5 ..........................\n",
      "[CV]  alpha=0.1, gamma=0, min_child_weight=5, score=0.898, total=   0.6s\n",
      "[CV] alpha=0.1, gamma=0, min_child_weight=5 ..........................\n",
      "[CV]  alpha=0.1, gamma=0, min_child_weight=5, score=0.899, total=   0.7s\n",
      "[CV] alpha=0.1, gamma=0, min_child_weight=5 ..........................\n",
      "[CV]  alpha=0.1, gamma=0, min_child_weight=5, score=0.871, total=   0.6s\n",
      "[CV] alpha=0.1, gamma=1, min_child_weight=1 ..........................\n",
      "[CV]  alpha=0.1, gamma=1, min_child_weight=1, score=0.916, total=   0.6s\n",
      "[CV] alpha=0.1, gamma=1, min_child_weight=1 ..........................\n",
      "[CV]  alpha=0.1, gamma=1, min_child_weight=1, score=0.907, total=   0.6s\n",
      "[CV] alpha=0.1, gamma=1, min_child_weight=1 ..........................\n",
      "[CV]  alpha=0.1, gamma=1, min_child_weight=1, score=0.904, total=   0.8s\n",
      "[CV] alpha=0.1, gamma=1, min_child_weight=1 ..........................\n",
      "[CV]  alpha=0.1, gamma=1, min_child_weight=1, score=0.911, total=   0.6s\n",
      "[CV] alpha=0.1, gamma=1, min_child_weight=1 ..........................\n",
      "[CV]  alpha=0.1, gamma=1, min_child_weight=1, score=0.870, total=   0.6s\n",
      "[CV] alpha=0.1, gamma=1, min_child_weight=3 ..........................\n",
      "[CV]  alpha=0.1, gamma=1, min_child_weight=3, score=0.921, total=   0.6s\n",
      "[CV] alpha=0.1, gamma=1, min_child_weight=3 ..........................\n",
      "[CV]  alpha=0.1, gamma=1, min_child_weight=3, score=0.910, total=   0.6s\n",
      "[CV] alpha=0.1, gamma=1, min_child_weight=3 ..........................\n",
      "[CV]  alpha=0.1, gamma=1, min_child_weight=3, score=0.896, total=   0.7s\n",
      "[CV] alpha=0.1, gamma=1, min_child_weight=3 ..........................\n",
      "[CV]  alpha=0.1, gamma=1, min_child_weight=3, score=0.908, total=   0.7s\n",
      "[CV] alpha=0.1, gamma=1, min_child_weight=3 ..........................\n",
      "[CV]  alpha=0.1, gamma=1, min_child_weight=3, score=0.883, total=   0.6s\n",
      "[CV] alpha=0.1, gamma=1, min_child_weight=5 ..........................\n",
      "[CV]  alpha=0.1, gamma=1, min_child_weight=5, score=0.915, total=   0.7s\n",
      "[CV] alpha=0.1, gamma=1, min_child_weight=5 ..........................\n",
      "[CV]  alpha=0.1, gamma=1, min_child_weight=5, score=0.909, total=   0.6s\n",
      "[CV] alpha=0.1, gamma=1, min_child_weight=5 ..........................\n",
      "[CV]  alpha=0.1, gamma=1, min_child_weight=5, score=0.898, total=   0.7s\n",
      "[CV] alpha=0.1, gamma=1, min_child_weight=5 ..........................\n",
      "[CV]  alpha=0.1, gamma=1, min_child_weight=5, score=0.899, total=   0.6s\n",
      "[CV] alpha=0.1, gamma=1, min_child_weight=5 ..........................\n",
      "[CV]  alpha=0.1, gamma=1, min_child_weight=5, score=0.871, total=   0.6s\n",
      "[CV] alpha=1, gamma=0, min_child_weight=1 ............................\n",
      "[CV]  alpha=1, gamma=0, min_child_weight=1, score=0.916, total=   0.6s\n",
      "[CV] alpha=1, gamma=0, min_child_weight=1 ............................\n",
      "[CV]  alpha=1, gamma=0, min_child_weight=1, score=0.907, total=   0.6s\n",
      "[CV] alpha=1, gamma=0, min_child_weight=1 ............................\n",
      "[CV]  alpha=1, gamma=0, min_child_weight=1, score=0.904, total=   0.6s\n",
      "[CV] alpha=1, gamma=0, min_child_weight=1 ............................\n",
      "[CV]  alpha=1, gamma=0, min_child_weight=1, score=0.911, total=   0.6s\n",
      "[CV] alpha=1, gamma=0, min_child_weight=1 ............................\n",
      "[CV]  alpha=1, gamma=0, min_child_weight=1, score=0.870, total=   0.8s\n",
      "[CV] alpha=1, gamma=0, min_child_weight=3 ............................\n",
      "[CV]  alpha=1, gamma=0, min_child_weight=3, score=0.921, total=   0.6s\n",
      "[CV] alpha=1, gamma=0, min_child_weight=3 ............................\n",
      "[CV]  alpha=1, gamma=0, min_child_weight=3, score=0.909, total=   0.6s\n",
      "[CV] alpha=1, gamma=0, min_child_weight=3 ............................\n",
      "[CV]  alpha=1, gamma=0, min_child_weight=3, score=0.896, total=   0.6s\n",
      "[CV] alpha=1, gamma=0, min_child_weight=3 ............................\n",
      "[CV]  alpha=1, gamma=0, min_child_weight=3, score=0.908, total=   0.6s\n",
      "[CV] alpha=1, gamma=0, min_child_weight=3 ............................\n",
      "[CV]  alpha=1, gamma=0, min_child_weight=3, score=0.883, total=   0.6s\n",
      "[CV] alpha=1, gamma=0, min_child_weight=5 ............................\n",
      "[CV]  alpha=1, gamma=0, min_child_weight=5, score=0.915, total=   0.6s\n",
      "[CV] alpha=1, gamma=0, min_child_weight=5 ............................\n",
      "[CV]  alpha=1, gamma=0, min_child_weight=5, score=0.909, total=   0.6s\n",
      "[CV] alpha=1, gamma=0, min_child_weight=5 ............................\n",
      "[CV]  alpha=1, gamma=0, min_child_weight=5, score=0.898, total=   0.6s\n",
      "[CV] alpha=1, gamma=0, min_child_weight=5 ............................\n",
      "[CV]  alpha=1, gamma=0, min_child_weight=5, score=0.899, total=   0.6s\n",
      "[CV] alpha=1, gamma=0, min_child_weight=5 ............................\n",
      "[CV]  alpha=1, gamma=0, min_child_weight=5, score=0.871, total=   0.6s\n",
      "[CV] alpha=1, gamma=1, min_child_weight=1 ............................\n",
      "[CV]  alpha=1, gamma=1, min_child_weight=1, score=0.916, total=   0.6s\n",
      "[CV] alpha=1, gamma=1, min_child_weight=1 ............................\n",
      "[CV]  alpha=1, gamma=1, min_child_weight=1, score=0.907, total=   0.6s\n",
      "[CV] alpha=1, gamma=1, min_child_weight=1 ............................\n",
      "[CV]  alpha=1, gamma=1, min_child_weight=1, score=0.904, total=   0.6s\n",
      "[CV] alpha=1, gamma=1, min_child_weight=1 ............................\n",
      "[CV]  alpha=1, gamma=1, min_child_weight=1, score=0.911, total=   0.7s\n",
      "[CV] alpha=1, gamma=1, min_child_weight=1 ............................\n",
      "[CV]  alpha=1, gamma=1, min_child_weight=1, score=0.870, total=   0.6s\n",
      "[CV] alpha=1, gamma=1, min_child_weight=3 ............................\n",
      "[CV]  alpha=1, gamma=1, min_child_weight=3, score=0.921, total=   0.5s\n",
      "[CV] alpha=1, gamma=1, min_child_weight=3 ............................\n",
      "[CV]  alpha=1, gamma=1, min_child_weight=3, score=0.909, total=   0.6s\n",
      "[CV] alpha=1, gamma=1, min_child_weight=3 ............................\n",
      "[CV]  alpha=1, gamma=1, min_child_weight=3, score=0.896, total=   0.7s\n",
      "[CV] alpha=1, gamma=1, min_child_weight=3 ............................\n",
      "[CV]  alpha=1, gamma=1, min_child_weight=3, score=0.908, total=   0.6s\n",
      "[CV] alpha=1, gamma=1, min_child_weight=3 ............................\n",
      "[CV]  alpha=1, gamma=1, min_child_weight=3, score=0.883, total=   0.6s\n",
      "[CV] alpha=1, gamma=1, min_child_weight=5 ............................\n",
      "[CV]  alpha=1, gamma=1, min_child_weight=5, score=0.915, total=   0.6s\n",
      "[CV] alpha=1, gamma=1, min_child_weight=5 ............................\n",
      "[CV]  alpha=1, gamma=1, min_child_weight=5, score=0.909, total=   0.6s\n",
      "[CV] alpha=1, gamma=1, min_child_weight=5 ............................\n",
      "[CV]  alpha=1, gamma=1, min_child_weight=5, score=0.898, total=   0.6s\n",
      "[CV] alpha=1, gamma=1, min_child_weight=5 ............................\n",
      "[CV]  alpha=1, gamma=1, min_child_weight=5, score=0.899, total=   0.6s\n",
      "[CV] alpha=1, gamma=1, min_child_weight=5 ............................\n",
      "[CV]  alpha=1, gamma=1, min_child_weight=5, score=0.871, total=   0.6s\n",
      "[CV] alpha=10, gamma=0, min_child_weight=1 ...........................\n"
     ]
    },
    {
     "name": "stdout",
     "output_type": "stream",
     "text": [
      "[CV]  alpha=10, gamma=0, min_child_weight=1, score=0.916, total=   0.8s\n",
      "[CV] alpha=10, gamma=0, min_child_weight=1 ...........................\n",
      "[CV]  alpha=10, gamma=0, min_child_weight=1, score=0.907, total=   0.7s\n",
      "[CV] alpha=10, gamma=0, min_child_weight=1 ...........................\n",
      "[CV]  alpha=10, gamma=0, min_child_weight=1, score=0.904, total=   0.6s\n",
      "[CV] alpha=10, gamma=0, min_child_weight=1 ...........................\n",
      "[CV]  alpha=10, gamma=0, min_child_weight=1, score=0.911, total=   0.7s\n",
      "[CV] alpha=10, gamma=0, min_child_weight=1 ...........................\n",
      "[CV]  alpha=10, gamma=0, min_child_weight=1, score=0.870, total=   0.6s\n",
      "[CV] alpha=10, gamma=0, min_child_weight=3 ...........................\n",
      "[CV]  alpha=10, gamma=0, min_child_weight=3, score=0.921, total=   0.7s\n",
      "[CV] alpha=10, gamma=0, min_child_weight=3 ...........................\n",
      "[CV]  alpha=10, gamma=0, min_child_weight=3, score=0.909, total=   0.6s\n",
      "[CV] alpha=10, gamma=0, min_child_weight=3 ...........................\n",
      "[CV]  alpha=10, gamma=0, min_child_weight=3, score=0.896, total=   0.8s\n",
      "[CV] alpha=10, gamma=0, min_child_weight=3 ...........................\n",
      "[CV]  alpha=10, gamma=0, min_child_weight=3, score=0.908, total=   1.0s\n",
      "[CV] alpha=10, gamma=0, min_child_weight=3 ...........................\n",
      "[CV]  alpha=10, gamma=0, min_child_weight=3, score=0.883, total=   0.9s\n",
      "[CV] alpha=10, gamma=0, min_child_weight=5 ...........................\n",
      "[CV]  alpha=10, gamma=0, min_child_weight=5, score=0.916, total=   0.7s\n",
      "[CV] alpha=10, gamma=0, min_child_weight=5 ...........................\n",
      "[CV]  alpha=10, gamma=0, min_child_weight=5, score=0.909, total=   0.8s\n",
      "[CV] alpha=10, gamma=0, min_child_weight=5 ...........................\n",
      "[CV]  alpha=10, gamma=0, min_child_weight=5, score=0.898, total=   0.7s\n",
      "[CV] alpha=10, gamma=0, min_child_weight=5 ...........................\n",
      "[CV]  alpha=10, gamma=0, min_child_weight=5, score=0.899, total=   0.7s\n",
      "[CV] alpha=10, gamma=0, min_child_weight=5 ...........................\n",
      "[CV]  alpha=10, gamma=0, min_child_weight=5, score=0.871, total=   0.6s\n",
      "[CV] alpha=10, gamma=1, min_child_weight=1 ...........................\n",
      "[CV]  alpha=10, gamma=1, min_child_weight=1, score=0.916, total=   0.6s\n",
      "[CV] alpha=10, gamma=1, min_child_weight=1 ...........................\n",
      "[CV]  alpha=10, gamma=1, min_child_weight=1, score=0.907, total=   0.7s\n",
      "[CV] alpha=10, gamma=1, min_child_weight=1 ...........................\n",
      "[CV]  alpha=10, gamma=1, min_child_weight=1, score=0.904, total=   0.6s\n",
      "[CV] alpha=10, gamma=1, min_child_weight=1 ...........................\n",
      "[CV]  alpha=10, gamma=1, min_child_weight=1, score=0.911, total=   0.6s\n",
      "[CV] alpha=10, gamma=1, min_child_weight=1 ...........................\n",
      "[CV]  alpha=10, gamma=1, min_child_weight=1, score=0.870, total=   0.7s\n",
      "[CV] alpha=10, gamma=1, min_child_weight=3 ...........................\n",
      "[CV]  alpha=10, gamma=1, min_child_weight=3, score=0.921, total=   0.6s\n",
      "[CV] alpha=10, gamma=1, min_child_weight=3 ...........................\n",
      "[CV]  alpha=10, gamma=1, min_child_weight=3, score=0.909, total=   0.7s\n",
      "[CV] alpha=10, gamma=1, min_child_weight=3 ...........................\n",
      "[CV]  alpha=10, gamma=1, min_child_weight=3, score=0.896, total=   0.9s\n",
      "[CV] alpha=10, gamma=1, min_child_weight=3 ...........................\n",
      "[CV]  alpha=10, gamma=1, min_child_weight=3, score=0.908, total=   0.9s\n",
      "[CV] alpha=10, gamma=1, min_child_weight=3 ...........................\n",
      "[CV]  alpha=10, gamma=1, min_child_weight=3, score=0.883, total=   0.6s\n",
      "[CV] alpha=10, gamma=1, min_child_weight=5 ...........................\n",
      "[CV]  alpha=10, gamma=1, min_child_weight=5, score=0.916, total=   0.6s\n",
      "[CV] alpha=10, gamma=1, min_child_weight=5 ...........................\n",
      "[CV]  alpha=10, gamma=1, min_child_weight=5, score=0.909, total=   0.6s\n",
      "[CV] alpha=10, gamma=1, min_child_weight=5 ...........................\n",
      "[CV]  alpha=10, gamma=1, min_child_weight=5, score=0.898, total=   0.6s\n",
      "[CV] alpha=10, gamma=1, min_child_weight=5 ...........................\n",
      "[CV]  alpha=10, gamma=1, min_child_weight=5, score=0.899, total=   0.7s\n",
      "[CV] alpha=10, gamma=1, min_child_weight=5 ...........................\n",
      "[CV]  alpha=10, gamma=1, min_child_weight=5, score=0.871, total=   0.6s\n"
     ]
    },
    {
     "name": "stderr",
     "output_type": "stream",
     "text": [
      "[Parallel(n_jobs=1)]: Done  90 out of  90 | elapsed:   59.2s finished\n"
     ]
    },
    {
     "data": {
      "text/plain": [
       "GridSearchCV(estimator=XGBRegressor(base_score=None, booster=None,\n",
       "                                    colsample_bylevel=None,\n",
       "                                    colsample_bynode=None,\n",
       "                                    colsample_bytree=None, gamma=None,\n",
       "                                    gpu_id=None, importance_type='gain',\n",
       "                                    interaction_constraints=None,\n",
       "                                    learning_rate=None, max_delta_step=None,\n",
       "                                    max_depth=3, min_child_weight=None,\n",
       "                                    missing=nan, monotone_constraints=None,\n",
       "                                    n_estimators=100, n_jobs=None,\n",
       "                                    num_parallel_tree=None, random_state=None,\n",
       "                                    reg_alpha=None, reg_lambda=None,\n",
       "                                    scale_pos_weight=None, subsample=None,\n",
       "                                    tree_method=None, validate_parameters=None,\n",
       "                                    verbosity=None),\n",
       "             param_grid={'alpha': [0.1, 1, 10], 'gamma': [0, 1],\n",
       "                         'min_child_weight': [1, 3, 5]},\n",
       "             verbose=3)"
      ]
     },
     "execution_count": 86,
     "metadata": {},
     "output_type": "execute_result"
    }
   ],
   "source": [
    "max_depth = grid.best_params_['max_depth']\n",
    "param_grid = {'alpha':[0.1,1,10], 'gamma': [0,1], 'min_child_weight':[1,3,5]}\n",
    "grid = GridSearchCV(xgb.XGBRegressor(max_depth = max_depth),param_grid,refit=True,verbose=3)\n",
    "grid.fit(X_train,y_train)"
   ]
  },
  {
   "cell_type": "code",
   "execution_count": 87,
   "metadata": {},
   "outputs": [
    {
     "data": {
      "text/plain": [
       "{'alpha': 0.1, 'gamma': 0, 'min_child_weight': 3}"
      ]
     },
     "execution_count": 87,
     "metadata": {},
     "output_type": "execute_result"
    }
   ],
   "source": [
    "grid.best_params_"
   ]
  },
  {
   "cell_type": "code",
   "execution_count": 88,
   "metadata": {},
   "outputs": [
    {
     "name": "stdout",
     "output_type": "stream",
     "text": [
      "RMSE: 24355.150336764353\n"
     ]
    }
   ],
   "source": [
    "predictions = grid.predict(X_test)\n",
    "print('RMSE:', np.sqrt(metrics.mean_squared_error(y_test, predictions)))"
   ]
  },
  {
   "cell_type": "markdown",
   "metadata": {},
   "source": [
    "### Seems we didn't improve. So we will keep max_depth=3 + default parameters."
   ]
  },
  {
   "cell_type": "markdown",
   "metadata": {},
   "source": [
    "## Summary so far:\n",
    "* Simple linear regression with 10 top-highest correl. features: RMSE = 31.0k\n",
    "* Linear regression with Ridge regularization: RMSE = 25.9k\n",
    "* Linear regression with Lasso regularization: RMSE = 25.6k\n",
    "* Principal component analysis: RMSE = 26.2k\n",
    "* XGBoost: RMSE = 23.7k"
   ]
  },
  {
   "cell_type": "markdown",
   "metadata": {},
   "source": [
    "# What if we didn't remove the outliers?\n",
    "### Let's see what happens to the different regression methods if we include the 2 outliers."
   ]
  },
  {
   "cell_type": "code",
   "execution_count": 155,
   "metadata": {},
   "outputs": [
    {
     "data": {
      "text/plain": [
       "FV           1460\n",
       "RH           1460\n",
       "RL           1460\n",
       "RM           1460\n",
       "Pave         1460\n",
       "             ... \n",
       "PoolQC       1460\n",
       "MiscVal      1460\n",
       "MoSold       1460\n",
       "YrSold       1460\n",
       "SalePrice    1460\n",
       "Length: 219, dtype: int64"
      ]
     },
     "execution_count": 155,
     "metadata": {},
     "output_type": "execute_result"
    }
   ],
   "source": [
    "train = train_copy #This dataset contains the 2 outliers\n",
    "train.count()"
   ]
  },
  {
   "cell_type": "markdown",
   "metadata": {},
   "source": [
    "### Simple linear regression"
   ]
  },
  {
   "cell_type": "code",
   "execution_count": 156,
   "metadata": {},
   "outputs": [
    {
     "name": "stdout",
     "output_type": "stream",
     "text": [
      "MAE: 24150.404221734105\n",
      "MSE: 2084759698.8862448\n",
      "RMSE: 45659.16883700628\n"
     ]
    },
    {
     "data": {
      "image/png": "[encoded data removed]",
      "text/plain": [
       "<Figure size 432x288 with 1 Axes>"
      ]
     },
     "metadata": {
      "needs_background": "light"
     },
     "output_type": "display_data"
    }
   ],
   "source": [
    "X = train[['OverallQual','GrLivArea','ExterQual','KitchenQual','GarageCars',\n",
    "           'GarageArea','TotalBsmtSF','1stFlrSF','BsmtQual','GarageFinish']]\n",
    "y = train['SalePrice']\n",
    "\n",
    "X_train, X_test, y_train, y_test = train_test_split(X, y, test_size=0.2, random_state=101)\n",
    "\n",
    "scaler = MinMaxScaler()\n",
    "X_train = scaler.fit_transform(X_train)\n",
    "X_test = scaler.transform(X_test)\n",
    "\n",
    "lm = LinearRegression()\n",
    "lm.fit(X_train,y_train)\n",
    "predictions = lm.predict(X_test)\n",
    "\n",
    "plt.scatter(y_test,predictions)\n",
    "plt.xlabel('Y Test')\n",
    "plt.ylabel('Predicted Y')\n",
    "\n",
    "from sklearn import metrics\n",
    "\n",
    "print('MAE:', metrics.mean_absolute_error(y_test, predictions))\n",
    "print('MSE:', metrics.mean_squared_error(y_test, predictions))\n",
    "print('RMSE:', np.sqrt(metrics.mean_squared_error(y_test, predictions)))"
   ]
  },
  {
   "cell_type": "markdown",
   "metadata": {},
   "source": [
    "### As we can see, the presence of the outliers causes problems in some of the predicted values: there is a house with saleprice of about 180k, but its predicted value is 700k. Also, RMSE is now 45.7k, significantly worse."
   ]
  },
  {
   "cell_type": "markdown",
   "metadata": {},
   "source": [
    "### With Lasso regularization:"
   ]
  },
  {
   "cell_type": "code",
   "execution_count": 157,
   "metadata": {},
   "outputs": [
    {
     "name": "stdout",
     "output_type": "stream",
     "text": [
      "RMSE: 46491.516093103106\n",
      "alpha:  284.8035868435805\n",
      "number of features:  70\n"
     ]
    },
    {
     "data": {
      "text/plain": [
       "Text(0, 0.5, 'Predicted Y')"
      ]
     },
     "execution_count": 157,
     "metadata": {},
     "output_type": "execute_result"
    },
    {
     "data": {
      "image/png": "[encoded data removed]",
      "text/plain": [
       "<Figure size 432x288 with 1 Axes>"
      ]
     },
     "metadata": {
      "needs_background": "light"
     },
     "output_type": "display_data"
    }
   ],
   "source": [
    "X = train.drop('SalePrice',axis=1)\n",
    "y = train['SalePrice']\n",
    "X_train, X_test, y_train, y_test = train_test_split(X, y, test_size=0.2, random_state=101)\n",
    "\n",
    "from sklearn.linear_model import LassoCV\n",
    "alpha_list = np.logspace(-3, 3, 100)\n",
    "#print(alpha_list)\n",
    "las = LassoCV(cv=5, alphas=alpha_list, random_state=101)\n",
    "las.fit(X_train, y_train)\n",
    "predictions = las.predict(X_test)\n",
    "\n",
    "print('RMSE:', np.sqrt(metrics.mean_squared_error(y_test, predictions)))\n",
    "print('alpha: ',las.alpha_)\n",
    "print('number of features: ',np.sum(las.coef_!=0))\n",
    "\n",
    "plt.scatter(y_test,predictions)\n",
    "plt.xlabel('Y Test')\n",
    "plt.ylabel('Predicted Y')"
   ]
  },
  {
   "cell_type": "markdown",
   "metadata": {},
   "source": [
    "#### Same problem here: linear regression is not robust against outliers."
   ]
  },
  {
   "cell_type": "markdown",
   "metadata": {},
   "source": [
    "### We can therefore try XGBoost:"
   ]
  },
  {
   "cell_type": "code",
   "execution_count": 159,
   "metadata": {},
   "outputs": [],
   "source": [
    "duplicated = list(X_train.loc[:,X_train.columns.duplicated()].columns)\n",
    "duplicated\n",
    "\n",
    "cols = []\n",
    "count = 1\n",
    "for column in X_train.columns:\n",
    "    if column in duplicated:\n",
    "        cols.append(f'{column}_{count}')\n",
    "        count+=1\n",
    "        continue\n",
    "    cols.append(column)\n",
    "X_train.columns = cols\n",
    "X_test.columns = cols"
   ]
  },
  {
   "cell_type": "code",
   "execution_count": 163,
   "metadata": {},
   "outputs": [
    {
     "name": "stdout",
     "output_type": "stream",
     "text": [
      "RMSE: 26217.85800105321\n"
     ]
    },
    {
     "data": {
      "text/plain": [
       "Text(0, 0.5, 'Predicted Y')"
      ]
     },
     "execution_count": 163,
     "metadata": {},
     "output_type": "execute_result"
    },
    {
     "data": {
      "image/png": "[encoded data removed]",
      "text/plain": [
       "<Figure size 432x288 with 1 Axes>"
      ]
     },
     "metadata": {
      "needs_background": "light"
     },
     "output_type": "display_data"
    }
   ],
   "source": [
    "xgb_model = xgb.XGBRegressor(random_state=101, max_depth=3)\n",
    "xgb_model.fit(X_train,y_train)\n",
    "predictions = xgb_model.predict(X_test)\n",
    "print('RMSE:', np.sqrt(metrics.mean_squared_error(y_test, predictions)))\n",
    "\n",
    "plt.scatter(y_test,predictions)\n",
    "plt.xlabel('Y Test')\n",
    "plt.ylabel('Predicted Y')"
   ]
  },
  {
   "cell_type": "markdown",
   "metadata": {},
   "source": [
    "### It seems that XGBoost instead is robust against the outliers: RMSE is down to 26.2k and no weird predictions appear in the plot"
   ]
  },
  {
   "cell_type": "markdown",
   "metadata": {},
   "source": [
    "## In conclusion, we can use the XGBoost model for the prediction of the house saleprices. Even including outliers, we obtain an RMSE of about 26k (to be compared with an average saleprice of 180k)"
   ]
  },
  {
   "cell_type": "code",
   "execution_count": null,
   "metadata": {},
   "outputs": [],
   "source": []
  }
 ],
 "metadata": {
  "kernelspec": {
   "display_name": "Python 3",
   "language": "python",
   "name": "python3"
  },
  "language_info": {
   "codemirror_mode": {
    "name": "ipython",
    "version": 3
   },
   "file_extension": ".py",
   "mimetype": "text/x-python",
   "name": "python",
   "nbconvert_exporter": "python",
   "pygments_lexer": "ipython3",
   "version": "3.6.10"
  }
 },
 "nbformat": 4,
 "nbformat_minor": 4
}
